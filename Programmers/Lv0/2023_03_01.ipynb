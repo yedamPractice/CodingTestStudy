{
  "nbformat": 4,
  "nbformat_minor": 0,
  "metadata": {
    "colab": {
      "provenance": []
    },
    "kernelspec": {
      "name": "python3",
      "display_name": "Python 3"
    },
    "language_info": {
      "name": "python"
    }
  },
  "cells": [
    {
      "cell_type": "markdown",
      "source": [
        "**DAY25 종이 자르기**"
      ],
      "metadata": {
        "id": "4Ap78_3FRTCB"
      }
    },
    {
      "cell_type": "code",
      "source": [
        "def solution(M, N):\n",
        "    answer = M - 1 + M * (N - 1)\n",
        "    return answer"
      ],
      "metadata": {
        "id": "HDKZc9ILk90q"
      },
      "execution_count": null,
      "outputs": []
    },
    {
      "cell_type": "markdown",
      "source": [
        "**DAY25 연속된 수의 합**"
      ],
      "metadata": {
        "id": "R4Na-A52REZD"
      }
    },
    {
      "cell_type": "code",
      "source": [
        "def solution(num, total):\n",
        "    answer = []\n",
        "    \n",
        "    if num % 2 == 1:\n",
        "        middle = ((num + 1) // 2)\n",
        "        mnumber = total // num\n",
        "        \n",
        "        answer = [i for i in range(mnumber-middle + 1, mnumber + middle)]\n",
        "        \n",
        "    else:\n",
        "        indexnum = (num // 2) - 1\n",
        "        idnumresult = (total // (num // 2) - 1) // 2\n",
        "        firstnumresult = idnumresult - indexnum\n",
        "        \n",
        "        answer = [i for i in range(firstnumresult, idnumresult+indexnum+2)]\n",
        "    return answer"
      ],
      "metadata": {
        "id": "nKbx5OXklIxS"
      },
      "execution_count": null,
      "outputs": []
    },
    {
      "cell_type": "code",
      "source": [
        "def solution(num, total):\n",
        "    answer = []\n",
        "    \n",
        "    for i in range(num):\n",
        "        answer.append(((total - (num * (num - 1) // 2)) // num) + i)\n",
        "        print(answer)\n",
        "    return answer"
      ],
      "metadata": {
        "id": "g0Jba7xcvSX7"
      },
      "execution_count": null,
      "outputs": []
    },
    {
      "cell_type": "markdown",
      "source": [
        "**DAY25 다음에 올 숫자**"
      ],
      "metadata": {
        "id": "1951gll2RYsx"
      }
    },
    {
      "cell_type": "code",
      "source": [
        "def solution(common):\n",
        "    answer = 0\n",
        "    # 등차수열\n",
        "    if (common[1] - common[0]) == (common[2] - common[1]):\n",
        "        arithmetic = common[1] - common[0] #등차\n",
        "        answer = common[-1] + arithmetic\n",
        "    else:\n",
        "        geometric = common[1] // common[0] #등비\n",
        "        answer = common[-1] * geometric\n",
        "    return answer"
      ],
      "metadata": {
        "id": "CE9jna-npNt1"
      },
      "execution_count": null,
      "outputs": []
    }
  ]
}