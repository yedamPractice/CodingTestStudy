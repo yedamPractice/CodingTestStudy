{
  "nbformat": 4,
  "nbformat_minor": 0,
  "metadata": {
    "colab": {
      "provenance": []
    },
    "kernelspec": {
      "name": "python3",
      "display_name": "Python 3"
    },
    "language_info": {
      "name": "python"
    }
  },
  "cells": [
    {
      "cell_type": "markdown",
      "source": [
        "**DAY10 점의 위치 구하기**"
      ],
      "metadata": {
        "id": "QD7O9O343J4A"
      }
    },
    {
      "cell_type": "code",
      "source": [
        "def solution(dot):\n",
        "    answer = 0\n",
        "    x = dot[0]\n",
        "    y = dot[1]\n",
        "    \n",
        "    if x > 0 and y > 0:\n",
        "        answer = 1\n",
        "    elif x < 0 and y > 0:\n",
        "        answer = 2\n",
        "    elif x < 0 and y < 0:\n",
        "        answer = 3\n",
        "    elif x > 0 and y < 0:\n",
        "        answer = 4\n",
        "    return answer"
      ],
      "metadata": {
        "id": "l9kmXK7p_rtg"
      },
      "execution_count": null,
      "outputs": []
    },
    {
      "cell_type": "markdown",
      "source": [
        "**DAY10 2차원으로 만들기**"
      ],
      "metadata": {
        "id": "2KrxRJsh3V3s"
      }
    },
    {
      "cell_type": "code",
      "source": [
        "import numpy as np\n",
        "\n",
        "def solution(num_list, n):\n",
        "    answer = [[]]\n",
        "    num_list = np.array(num_list)\n",
        "    \n",
        "    m = int(len(num_list) / n)\n",
        "    \n",
        "    answer = num_list.reshape(m, n).tolist()\n",
        "    return answer"
      ],
      "metadata": {
        "id": "fiQrVgalBK-f"
      },
      "execution_count": null,
      "outputs": []
    },
    {
      "cell_type": "markdown",
      "source": [
        "**DAY10 공 던지기**"
      ],
      "metadata": {
        "id": "K-73u6c_3j1H"
      }
    },
    {
      "cell_type": "code",
      "source": [
        "def solution(numbers, k):\n",
        "    answer = 1\n",
        "    for i in range(k-1):\n",
        "        answer += 2\n",
        "        if answer > len(numbers):\n",
        "            answer -= len(numbers)\n",
        "    return answer"
      ],
      "metadata": {
        "id": "IbR6DR0wtlL2"
      },
      "execution_count": null,
      "outputs": []
    },
    {
      "cell_type": "markdown",
      "source": [
        "**DAY10 배열 회전시키기**"
      ],
      "metadata": {
        "id": "IjxJ4hFs3lkt"
      }
    },
    {
      "cell_type": "code",
      "source": [
        "def solution(numbers, direction):\n",
        "    answer = []\n",
        "    if direction == 'left':\n",
        "        answer = numbers[1:] + [numbers[0]]\n",
        "    else:\n",
        "        answer = [numbers[-1]] + numbers[:-1]\n",
        "    return answer"
      ],
      "metadata": {
        "id": "sJGneLkfxD7d"
      },
      "execution_count": null,
      "outputs": []
    },
    {
      "cell_type": "markdown",
      "source": [
        "**DAY17 OX퀴즈**"
      ],
      "metadata": {
        "id": "4Ap78_3FRTCB"
      }
    },
    {
      "cell_type": "code",
      "source": [
        "def solution(quiz):\n",
        "    answer = []\n",
        "    for i in quiz:\n",
        "        formula = i.split()\n",
        "        num = int(formula[0])\n",
        "        for j in range(len(formula)):\n",
        "            if formula[j] ==  '+':\n",
        "                num += int(formula[j+1])\n",
        "            if formula[j] == '-':\n",
        "                num -= int(formula[j+1])\n",
        "        if num == int(formula[-1]):\n",
        "            answer.append(\"O\")\n",
        "        else:\n",
        "            answer.append(\"X\")\n",
        "    return answer"
      ],
      "metadata": {
        "id": "FQVhX-cq0PTM"
      },
      "execution_count": null,
      "outputs": []
    },
    {
      "cell_type": "markdown",
      "source": [
        "**DAY18 문자열 안에 문자열**"
      ],
      "metadata": {
        "id": "R4Na-A52REZD"
      }
    },
    {
      "cell_type": "code",
      "source": [
        "def solution(str1, str2):\n",
        "    answer = 2\n",
        "    if str2 in str1:\n",
        "        answer = 1\n",
        "    return answer"
      ],
      "metadata": {
        "id": "HTWfZqPEBvai"
      },
      "execution_count": null,
      "outputs": []
    },
    {
      "cell_type": "markdown",
      "source": [
        "**DAY18 제곱수 판별하기**"
      ],
      "metadata": {
        "id": "1951gll2RYsx"
      }
    },
    {
      "cell_type": "code",
      "source": [
        "def solution(n):\n",
        "    answer = 2\n",
        "    for i in range(1, 1001):\n",
        "        if i**2 == n:\n",
        "            answer = 1\n",
        "            break\n",
        "    return answer"
      ],
      "metadata": {
        "id": "K_C4djZrBzWB"
      },
      "execution_count": null,
      "outputs": []
    }
  ]
}