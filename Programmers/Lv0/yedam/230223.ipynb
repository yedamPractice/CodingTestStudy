{
 "cells": [
  {
   "cell_type": "markdown",
   "id": "c5fd71c0",
   "metadata": {},
   "source": [
    "## 평행"
   ]
  },
  {
   "cell_type": "markdown",
   "id": "616e76f2",
   "metadata": {},
   "source": [
    "- 제출 코드"
   ]
  },
  {
   "cell_type": "code",
   "execution_count": 12,
   "id": "f2fbc99f",
   "metadata": {},
   "outputs": [],
   "source": [
    "# 기울기 구하는 함수\n",
    "def parallel(dots1, dots2):\n",
    "    x_change = dots1[0] - dots2[0]\n",
    "    y_change = dots1[1] - dots2[1]\n",
    "    \n",
    "    return y_change/x_change\n",
    "\n",
    "def solution(dots):\n",
    "    answer = 0\n",
    "    if parallel(dots[0], dots[1]) == parallel(dots[2], dots[3]) or parallel(\n",
    "        dots[0], dots[2]) == parallel(dots[1], dots[3]) or parallel(\n",
    "        dots[0], dots[3]) == parallel(dots[1], dots[2]):\n",
    "        answer = 1\n",
    "    \n",
    "    return answer"
   ]
  },
  {
   "cell_type": "markdown",
   "id": "df7d6117",
   "metadata": {},
   "source": [
    "## 겹치는 선분의 길이"
   ]
  },
  {
   "cell_type": "code",
   "execution_count": 42,
   "id": "097b2765",
   "metadata": {},
   "outputs": [],
   "source": [
    "def solution(lines):\n",
    "    sets = [set(range(min(l), max(l))) for l in lines]\n",
    "    return len(sets[0] & sets[1] | sets[0] & sets[2] | sets[1] & sets[2])"
   ]
  },
  {
   "cell_type": "markdown",
   "id": "23767e0d",
   "metadata": {},
   "source": [
    "## 유한소수 판별하기"
   ]
  },
  {
   "cell_type": "markdown",
   "id": "d5b4db41",
   "metadata": {},
   "source": [
    "- 제출 코드"
   ]
  },
  {
   "cell_type": "code",
   "execution_count": 41,
   "id": "f9e10037",
   "metadata": {},
   "outputs": [],
   "source": [
    "from fractions import Fraction\n",
    "\n",
    "# 주어진 수보다 작은 소수 구하기\n",
    "def prime(n):\n",
    "    \n",
    "    answer = []\n",
    "    for i in range(2, n+1):\n",
    "        \n",
    "        cnt = 0\n",
    "        for j in range(2, i-1):\n",
    "            if i%j == 0:\n",
    "                cnt +=1\n",
    "                \n",
    "        if cnt == 0:\n",
    "            answer.append(i)\n",
    "            \n",
    "    return answer\n",
    "\n",
    "# 소인수 구하기\n",
    "def factorization(n):\n",
    "    result = []\n",
    "    \n",
    "    num_prime = prime(n)\n",
    "    \n",
    "    #주어진 소수 % 소수 == 0이면 result에 추가\n",
    "    for i in num_prime:\n",
    "        if n % i == 0:\n",
    "            result.append(i)\n",
    "            \n",
    "    return result\n",
    "\n",
    "\n",
    "def solution(a, b):\n",
    "    answer = 2\n",
    "    \n",
    "    # 기약 분수로 나타내기\n",
    "    num2 = Fraction(a, b).denominator\n",
    "    num_factor = factorization(num2)\n",
    "    \n",
    "    if 2 in num_factor:\n",
    "        num_factor.remove(2)\n",
    "    if 5 in num_factor:\n",
    "        num_factor.remove(5)\n",
    "        \n",
    "    if len(num_factor) == 0:\n",
    "        answer = 1\n",
    "        \n",
    "    return answer"
   ]
  }
 ],
 "metadata": {
  "kernelspec": {
   "display_name": "Python 3 (ipykernel)",
   "language": "python",
   "name": "python3"
  },
  "language_info": {
   "codemirror_mode": {
    "name": "ipython",
    "version": 3
   },
   "file_extension": ".py",
   "mimetype": "text/x-python",
   "name": "python",
   "nbconvert_exporter": "python",
   "pygments_lexer": "ipython3",
   "version": "3.9.7"
  }
 },
 "nbformat": 4,
 "nbformat_minor": 5
}
