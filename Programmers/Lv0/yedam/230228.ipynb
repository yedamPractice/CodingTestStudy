{
 "cells": [
  {
   "cell_type": "markdown",
   "id": "af03a613",
   "metadata": {},
   "source": [
    "## A와 B 만들기"
   ]
  },
  {
   "cell_type": "code",
   "execution_count": 25,
   "id": "e7eee352",
   "metadata": {},
   "outputs": [],
   "source": [
    "def solution(before, after):\n",
    "    p = 0\n",
    "\n",
    "    for i in before :\n",
    "\n",
    "        if i in after :\n",
    "            print(i)\n",
    "\n",
    "            if before.count(i) == after.count(i) :\n",
    "\n",
    "                p += 1\n",
    "\n",
    "            else :\n",
    "                continue\n",
    "\n",
    "    if len(before) == p :\n",
    "\n",
    "        answer = 1\n",
    "    else :\n",
    "\n",
    "        answer = 0\n",
    "\n",
    "    return answer "
   ]
  },
  {
   "cell_type": "markdown",
   "id": "3db89a4a",
   "metadata": {},
   "source": [
    "## k의 개수"
   ]
  },
  {
   "cell_type": "markdown",
   "id": "cbb46eb4",
   "metadata": {},
   "source": [
    "- 제출 코드"
   ]
  },
  {
   "cell_type": "code",
   "execution_count": 27,
   "id": "4919b8f6",
   "metadata": {},
   "outputs": [],
   "source": [
    "def solution(i, j, k):\n",
    "    answer = 0\n",
    "    for n in range(i, j+1):\n",
    "        temp = list(str(n))\n",
    "        if str(k) in temp:\n",
    "            answer += temp.count(str(k))\n",
    "    return answer"
   ]
  },
  {
   "cell_type": "markdown",
   "id": "f2f0fe9d",
   "metadata": {},
   "source": [
    "## 문자열 밀기"
   ]
  },
  {
   "cell_type": "code",
   "execution_count": 52,
   "id": "f03bf8fb",
   "metadata": {},
   "outputs": [],
   "source": [
    "def solution(A, B):\n",
    "    answer = -1\n",
    "    \n",
    "    A = list(A)\n",
    "    B = list(B)\n",
    "    \n",
    "    if A == B:\n",
    "        answer = 0\n",
    "        return answer\n",
    "\n",
    "    cnt = 0\n",
    "    \n",
    "    for i in range(len(A)):\n",
    "        cnt += 1\n",
    "        temp =  list(A[-1]) + A[:len(A)-1]\n",
    "        if temp == B:\n",
    "            answer = cnt\n",
    "            break\n",
    "        A = temp\n",
    "\n",
    "    return answer"
   ]
  }
 ],
 "metadata": {
  "kernelspec": {
   "display_name": "Python 3 (ipykernel)",
   "language": "python",
   "name": "python3"
  },
  "language_info": {
   "codemirror_mode": {
    "name": "ipython",
    "version": 3
   },
   "file_extension": ".py",
   "mimetype": "text/x-python",
   "name": "python",
   "nbconvert_exporter": "python",
   "pygments_lexer": "ipython3",
   "version": "3.9.7"
  }
 },
 "nbformat": 4,
 "nbformat_minor": 5
}
