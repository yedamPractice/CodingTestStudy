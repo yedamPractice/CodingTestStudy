{
 "cells": [
  {
   "cell_type": "markdown",
   "id": "b341af92",
   "metadata": {},
   "source": [
    "## 종이 자르기"
   ]
  },
  {
   "cell_type": "code",
   "execution_count": 1,
   "id": "f4db2999",
   "metadata": {},
   "outputs": [],
   "source": [
    "def solution(M, N):\n",
    "    return M-1 + M*(N-1)"
   ]
  },
  {
   "cell_type": "markdown",
   "id": "b78dbae4",
   "metadata": {},
   "source": [
    "## 연속된 수의 합"
   ]
  },
  {
   "cell_type": "code",
   "execution_count": 2,
   "id": "614d8d1d",
   "metadata": {},
   "outputs": [],
   "source": [
    "def solution(num, total):\n",
    "    answer = []\n",
    "    if num%2 == 0:\n",
    "        temp = total // num - (num //2 -1)\n",
    "    else:\n",
    "        temp = total //num - num//2\n",
    "        \n",
    "        \n",
    "    for i in range(num):\n",
    "        answer.append(temp)\n",
    "        temp += 1\n",
    "        \n",
    "    return answer"
   ]
  },
  {
   "cell_type": "markdown",
   "id": "a5964096",
   "metadata": {},
   "source": [
    "## 다음에 올 숫자"
   ]
  },
  {
   "cell_type": "code",
   "execution_count": 3,
   "id": "032f1ac1",
   "metadata": {},
   "outputs": [],
   "source": [
    "def solution(common):\n",
    "    # 등차 or 등비 확인하기!\n",
    "    rithmetic_space1 = common[1] - common[0]\n",
    "    rithmetic_space2 = common[2] - common[1]\n",
    "    if rithmetic_space1 == rithmetic_space2:\n",
    "        answer = common[-1] + rithmetic_space1\n",
    "        return answer \n",
    "    \n",
    "    geometric_space1 = common[1] / common[0]\n",
    "    geometric_space2 = common[2] / common[1]\n",
    "    \n",
    "    if geometric_space1 == geometric_space2:\n",
    "        answer = common[-1] * geometric_space1\n",
    "    return answer"
   ]
  }
 ],
 "metadata": {
  "kernelspec": {
   "display_name": "Python 3 (ipykernel)",
   "language": "python",
   "name": "python3"
  },
  "language_info": {
   "codemirror_mode": {
    "name": "ipython",
    "version": 3
   },
   "file_extension": ".py",
   "mimetype": "text/x-python",
   "name": "python",
   "nbconvert_exporter": "python",
   "pygments_lexer": "ipython3",
   "version": "3.9.7"
  }
 },
 "nbformat": 4,
 "nbformat_minor": 5
}
