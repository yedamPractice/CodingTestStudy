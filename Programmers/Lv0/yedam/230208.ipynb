{
 "cells": [
  {
   "cell_type": "markdown",
   "id": "36b5f61e",
   "metadata": {},
   "source": [
    "## 가까운 수"
   ]
  },
  {
   "cell_type": "markdown",
   "id": "34cb3233",
   "metadata": {},
   "source": [
    "- 제출 코드"
   ]
  },
  {
   "cell_type": "code",
   "execution_count": 4,
   "id": "bee7cb5e",
   "metadata": {},
   "outputs": [],
   "source": [
    "def solution(array, n):\n",
    "    # 주어진 범위 중 가장 큰 수가 100이므로\n",
    "    compared = 100\n",
    "    \n",
    "    for char in array:\n",
    "        temp = abs(char - n)\n",
    "        \n",
    "        if compared > temp:\n",
    "            compared = temp\n",
    "            result = char\n",
    "            \n",
    "        elif compared == temp:\n",
    "            compared = temp\n",
    "            result = min(result, char)\n",
    "    \n",
    "    return result"
   ]
  },
  {
   "cell_type": "markdown",
   "id": "aa3b6625",
   "metadata": {},
   "source": [
    "- 참고할 만한 코드"
   ]
  },
  {
   "cell_type": "code",
   "execution_count": 5,
   "id": "2965cb9c",
   "metadata": {},
   "outputs": [],
   "source": [
    "def solution(array, n):\n",
    "    array.sort(key = lambda x : (abs(x-n), x-n))\n",
    "    answer = array[0]\n",
    "    return answer"
   ]
  },
  {
   "cell_type": "code",
   "execution_count": 6,
   "id": "1b82c2e5",
   "metadata": {},
   "outputs": [],
   "source": [
    "def solution(array, n):\n",
    "    array.sort()\n",
    "    temp = []\n",
    "\n",
    "    for i in array :\n",
    "        temp.append( abs(n-i) )\n",
    "\n",
    "    return array[temp.index(min(temp))]"
   ]
  },
  {
   "cell_type": "markdown",
   "id": "fff6362e",
   "metadata": {},
   "source": [
    "## 369 게임"
   ]
  },
  {
   "cell_type": "code",
   "execution_count": 19,
   "id": "c5afeab3",
   "metadata": {},
   "outputs": [],
   "source": [
    "def solution(order):\n",
    "    order = str(order)\n",
    "    order_list = list(order)\n",
    "    \n",
    "    cnt = 0\n",
    "    for n in order_list:\n",
    "        if n ==\"3\" or n == \"6\" or n ==\"9\":\n",
    "            cnt += 1\n",
    "    return cnt"
   ]
  },
  {
   "cell_type": "markdown",
   "id": "7830a6df",
   "metadata": {},
   "source": [
    "## 암호 해독"
   ]
  },
  {
   "cell_type": "markdown",
   "id": "af327ba2",
   "metadata": {},
   "source": [
    "- 제출 코드"
   ]
  },
  {
   "cell_type": "code",
   "execution_count": 24,
   "id": "ebf63c27",
   "metadata": {},
   "outputs": [],
   "source": [
    "def solution(cipher, code):\n",
    "    cipher_list = list(cipher)\n",
    "    answer = []\n",
    "\n",
    "    for n in range(len(cipher_list)):\n",
    "        if n%code == code-1:\n",
    "            answer.append(cipher_list[n])\n",
    "            \n",
    "    return ''.join(answer)"
   ]
  }
 ],
 "metadata": {
  "kernelspec": {
   "display_name": "Python 3 (ipykernel)",
   "language": "python",
   "name": "python3"
  },
  "language_info": {
   "codemirror_mode": {
    "name": "ipython",
    "version": 3
   },
   "file_extension": ".py",
   "mimetype": "text/x-python",
   "name": "python",
   "nbconvert_exporter": "python",
   "pygments_lexer": "ipython3",
   "version": "3.9.7"
  }
 },
 "nbformat": 4,
 "nbformat_minor": 5
}
