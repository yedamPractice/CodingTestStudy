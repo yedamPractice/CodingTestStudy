{
 "cells": [
  {
   "cell_type": "markdown",
   "id": "ded17ab2",
   "metadata": {},
   "source": [
    "## 한 번만 등장한 문자"
   ]
  },
  {
   "cell_type": "markdown",
   "id": "c2cbf4d6",
   "metadata": {},
   "source": [
    "- 제출 코드"
   ]
  },
  {
   "cell_type": "code",
   "execution_count": 4,
   "id": "9b8a197b",
   "metadata": {},
   "outputs": [],
   "source": [
    "def solution(s):\n",
    "    s = list(s)\n",
    "    answer =  []\n",
    "    \n",
    "    for c in s:\n",
    "        \n",
    "        cnt = 0\n",
    "        for checking in s:\n",
    "            if c == checking:\n",
    "                cnt += 1\n",
    "        # list 안에 문자가 한 번만 등장했다면\n",
    "        if cnt == 1:\n",
    "            answer.append(c)\n",
    "            \n",
    "    answer.sort()\n",
    "    return ''.join(answer)"
   ]
  },
  {
   "cell_type": "markdown",
   "id": "8812555d",
   "metadata": {},
   "source": [
    "- 다른 사람 풀이"
   ]
  },
  {
   "cell_type": "code",
   "execution_count": 5,
   "id": "8b356aa7",
   "metadata": {},
   "outputs": [],
   "source": [
    "def solution(s):\n",
    "    answer = \"\".join(sorted([ ch for ch in s if s.count(ch) == 1]))\n",
    "    return answer"
   ]
  },
  {
   "cell_type": "markdown",
   "id": "360b562c",
   "metadata": {},
   "source": [
    "## 약수 구하기"
   ]
  },
  {
   "cell_type": "markdown",
   "id": "b785537f",
   "metadata": {},
   "source": [
    "- 제출 코드"
   ]
  },
  {
   "cell_type": "code",
   "execution_count": 10,
   "id": "97255a60",
   "metadata": {},
   "outputs": [],
   "source": [
    "def solution(n):\n",
    "    answer = []\n",
    "\n",
    "    for num in range(1, n+1):\n",
    "        if n%num == 0:\n",
    "            answer.append(num)\n",
    "\n",
    "    return answer"
   ]
  },
  {
   "cell_type": "markdown",
   "id": "1c585647",
   "metadata": {},
   "source": [
    "- 다른 사람 풀이"
   ]
  },
  {
   "cell_type": "code",
   "execution_count": 11,
   "id": "711ecec1",
   "metadata": {},
   "outputs": [],
   "source": [
    "def solution(n):\n",
    "    answer = [i for i in range(1,n+1) if n%i == 0]\n",
    "    return answer"
   ]
  },
  {
   "cell_type": "markdown",
   "id": "7fe5e7e3",
   "metadata": {},
   "source": [
    "## 편지"
   ]
  },
  {
   "cell_type": "markdown",
   "id": "2d68ab5d",
   "metadata": {},
   "source": [
    "- 제출코드"
   ]
  },
  {
   "cell_type": "code",
   "execution_count": 14,
   "id": "56106990",
   "metadata": {},
   "outputs": [],
   "source": [
    "def solution(message):\n",
    "    return len(message) *2"
   ]
  }
 ],
 "metadata": {
  "kernelspec": {
   "display_name": "Python 3 (ipykernel)",
   "language": "python",
   "name": "python3"
  },
  "language_info": {
   "codemirror_mode": {
    "name": "ipython",
    "version": 3
   },
   "file_extension": ".py",
   "mimetype": "text/x-python",
   "name": "python",
   "nbconvert_exporter": "python",
   "pygments_lexer": "ipython3",
   "version": "3.9.7"
  }
 },
 "nbformat": 4,
 "nbformat_minor": 5
}
