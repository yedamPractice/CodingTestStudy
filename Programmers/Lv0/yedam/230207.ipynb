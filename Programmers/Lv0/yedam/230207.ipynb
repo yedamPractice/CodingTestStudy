{
 "cells": [
  {
   "cell_type": "markdown",
   "id": "2f82a49f",
   "metadata": {},
   "source": [
    "## 배열 원소의 길이"
   ]
  },
  {
   "cell_type": "markdown",
   "id": "64da694f",
   "metadata": {},
   "source": [
    "- 제출 코드"
   ]
  },
  {
   "cell_type": "code",
   "execution_count": 1,
   "id": "440c0c46",
   "metadata": {},
   "outputs": [],
   "source": [
    "def solution(strlist):\n",
    "    answer = []\n",
    "    for k in strlist:\n",
    "        answer.append(len(k))\n",
    "    return answer"
   ]
  },
  {
   "cell_type": "markdown",
   "id": "45c2c9bf",
   "metadata": {},
   "source": [
    "## 중복된 문자 제거"
   ]
  },
  {
   "cell_type": "markdown",
   "id": "7ba0265c",
   "metadata": {},
   "source": [
    "- 제출 코드"
   ]
  },
  {
   "cell_type": "code",
   "execution_count": 35,
   "id": "5d547e85",
   "metadata": {},
   "outputs": [],
   "source": [
    "def solution(my_string):\n",
    "    my_string = list(my_string)\n",
    "    answer = []\n",
    "    length = len(my_string)\n",
    "    \n",
    "    for char in range(length):\n",
    "        cnt = 0\n",
    "        for c in range(char):\n",
    "            if my_string[char] == my_string[c]:\n",
    "                cnt += 1\n",
    "                \n",
    "        if cnt == 0:\n",
    "            answer.append(my_string[char])\n",
    "            \n",
    "    return ''.join(answer)"
   ]
  },
  {
   "cell_type": "markdown",
   "id": "c5d364c1",
   "metadata": {},
   "source": [
    "## 삼각형의 완성조건(1)"
   ]
  },
  {
   "cell_type": "markdown",
   "id": "d775e4ef",
   "metadata": {},
   "source": [
    "- 제출 코드"
   ]
  },
  {
   "cell_type": "code",
   "execution_count": 12,
   "id": "ce16efa4",
   "metadata": {},
   "outputs": [],
   "source": [
    "def solution(sides):\n",
    "    answer = 2\n",
    "    \n",
    "    max_num = max(sides)\n",
    "    sides.remove(max_num)\n",
    "    sum_num = sum(sides)\n",
    "    \n",
    "    if max_num < sum_num:\n",
    "        answer = 1\n",
    "\n",
    "    return answer"
   ]
  }
 ],
 "metadata": {
  "kernelspec": {
   "display_name": "Python 3 (ipykernel)",
   "language": "python",
   "name": "python3"
  },
  "language_info": {
   "codemirror_mode": {
    "name": "ipython",
    "version": 3
   },
   "file_extension": ".py",
   "mimetype": "text/x-python",
   "name": "python",
   "nbconvert_exporter": "python",
   "pygments_lexer": "ipython3",
   "version": "3.9.7"
  }
 },
 "nbformat": 4,
 "nbformat_minor": 5
}
