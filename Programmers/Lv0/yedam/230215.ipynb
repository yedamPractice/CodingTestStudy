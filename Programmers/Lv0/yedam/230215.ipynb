{
 "cells": [
  {
   "cell_type": "markdown",
   "id": "8c3d33ec",
   "metadata": {},
   "source": [
    "## OX퀴즈"
   ]
  },
  {
   "cell_type": "markdown",
   "id": "d2857282",
   "metadata": {},
   "source": [
    "- 제출 코드"
   ]
  },
  {
   "cell_type": "code",
   "execution_count": 13,
   "id": "735b55f2",
   "metadata": {},
   "outputs": [],
   "source": [
    "def solution(quiz):\n",
    "    answer = []\n",
    "    \n",
    "    for solve_quiz in quiz:\n",
    "        temp = solve_quiz.split(\" \")\n",
    "        \n",
    "        if temp[1] == \"+\":\n",
    "            value = int(temp[0]) + int(temp[2])\n",
    "\n",
    "        else:\n",
    "            value = int(temp[0]) - int(temp[2])\n",
    "\n",
    "\n",
    "        if value == int(temp[4]):\n",
    "            answer.append(\"O\")\n",
    "        else:\n",
    "            answer.append(\"X\")\n",
    "            \n",
    "    return answer"
   ]
  },
  {
   "cell_type": "markdown",
   "id": "553e7912",
   "metadata": {},
   "source": [
    "## 문자열 안에 문자열"
   ]
  },
  {
   "cell_type": "markdown",
   "id": "d985884a",
   "metadata": {},
   "source": [
    "- 제출 코드"
   ]
  },
  {
   "cell_type": "code",
   "execution_count": 18,
   "id": "8c54fb7f",
   "metadata": {},
   "outputs": [],
   "source": [
    "def solution(str1, str2):\n",
    "    if str2 in str1:\n",
    "        answer = 1\n",
    "    else:\n",
    "        answer = 2\n",
    "        \n",
    "    return answer"
   ]
  },
  {
   "cell_type": "markdown",
   "id": "449eae70",
   "metadata": {},
   "source": [
    "## 제곱수 판별하기 "
   ]
  },
  {
   "cell_type": "code",
   "execution_count": 19,
   "id": "1064818d",
   "metadata": {},
   "outputs": [],
   "source": [
    "def solution(n):\n",
    "    answer = 2\n",
    "    for num in range(2, n//2):\n",
    "        if n / num == num:\n",
    "            answer = 1\n",
    "            \n",
    "    return answer"
   ]
  }
 ],
 "metadata": {
  "kernelspec": {
   "display_name": "Python 3 (ipykernel)",
   "language": "python",
   "name": "python3"
  },
  "language_info": {
   "codemirror_mode": {
    "name": "ipython",
    "version": 3
   },
   "file_extension": ".py",
   "mimetype": "text/x-python",
   "name": "python",
   "nbconvert_exporter": "python",
   "pygments_lexer": "ipython3",
   "version": "3.9.7"
  }
 },
 "nbformat": 4,
 "nbformat_minor": 5
}
