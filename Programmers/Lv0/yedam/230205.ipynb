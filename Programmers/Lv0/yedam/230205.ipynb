{
 "cells": [
  {
   "cell_type": "markdown",
   "id": "9a973b85",
   "metadata": {},
   "source": [
    "## 팩토리얼"
   ]
  },
  {
   "cell_type": "code",
   "execution_count": 2,
   "id": "6ad4d7e4",
   "metadata": {},
   "outputs": [],
   "source": [
    "def factorial(n):\n",
    "    result = 1\n",
    "    for i in range(1, n+1):\n",
    "        result *= i\n",
    "    \n",
    "    return result"
   ]
  },
  {
   "cell_type": "code",
   "execution_count": 52,
   "id": "eccf9072",
   "metadata": {},
   "outputs": [],
   "source": [
    "def solution(n):\n",
    "    result = 1\n",
    "    while True:\n",
    "        if (n < factorial(result)):\n",
    "            return result-1\n",
    "        result += 1\n",
    "        print(result , factorial(result))\n",
    "        "
   ]
  },
  {
   "cell_type": "code",
   "execution_count": 53,
   "id": "d7706126",
   "metadata": {},
   "outputs": [
    {
     "name": "stdout",
     "output_type": "stream",
     "text": [
      "2 2\n",
      "3 6\n",
      "4 24\n",
      "5 120\n",
      "6 720\n",
      "7 5040\n",
      "8 40320\n",
      "9 362880\n",
      "10 3628800\n",
      "11 39916800\n"
     ]
    },
    {
     "data": {
      "text/plain": [
       "10"
      ]
     },
     "execution_count": 53,
     "metadata": {},
     "output_type": "execute_result"
    }
   ],
   "source": [
    "solution(3628800)"
   ]
  },
  {
   "cell_type": "markdown",
   "id": "ff8a000f",
   "metadata": {},
   "source": [
    "- 제출 코드"
   ]
  },
  {
   "cell_type": "code",
   "execution_count": 54,
   "id": "aec4a7cb",
   "metadata": {},
   "outputs": [],
   "source": [
    "def factorial(n):\n",
    "    result = 1\n",
    "    \n",
    "    for i in range(1, n+1):\n",
    "        result *= i\n",
    "    return result\n",
    "\n",
    "def solution(n):\n",
    "    result = 1\n",
    "    while True:\n",
    "        if (n < factorial(result)):\n",
    "            return result-1\n",
    "        result += 1"
   ]
  },
  {
   "cell_type": "markdown",
   "id": "fac94cf9",
   "metadata": {},
   "source": [
    "## 모음 제거"
   ]
  },
  {
   "cell_type": "code",
   "execution_count": 47,
   "id": "e225d568",
   "metadata": {},
   "outputs": [],
   "source": [
    "import numpy as np\n",
    "vowel = ['a', 'e', 'o', 'u', 'i']\n",
    "\n",
    "my_string = \"bus\""
   ]
  },
  {
   "cell_type": "code",
   "execution_count": 45,
   "id": "166bd309",
   "metadata": {},
   "outputs": [],
   "source": [
    "for char in vowel:\n",
    "    my_string = my_string.replace(char, \"\")"
   ]
  },
  {
   "cell_type": "code",
   "execution_count": 46,
   "id": "e44dc160",
   "metadata": {},
   "outputs": [
    {
     "data": {
      "text/plain": [
       "'bs'"
      ]
     },
     "execution_count": 46,
     "metadata": {},
     "output_type": "execute_result"
    }
   ],
   "source": [
    "my_string"
   ]
  },
  {
   "cell_type": "markdown",
   "id": "c885a60c",
   "metadata": {},
   "source": [
    "- 제출 코드"
   ]
  },
  {
   "cell_type": "code",
   "execution_count": 48,
   "id": "ce4024eb",
   "metadata": {},
   "outputs": [],
   "source": [
    "def solution(my_string):\n",
    "    vowel = ['a', 'e', 'o', 'u', 'i']\n",
    "    for char in vowel:\n",
    "        my_string = my_string.replace(char, \"\")\n",
    "    return my_string"
   ]
  },
  {
   "cell_type": "markdown",
   "id": "d2fc9a68",
   "metadata": {},
   "source": [
    "## 문자열 정렬하기(1)"
   ]
  },
  {
   "cell_type": "code",
   "execution_count": 36,
   "id": "58307f49",
   "metadata": {},
   "outputs": [],
   "source": [
    "import re\n",
    "\n",
    "my_string = \"hi12392\"\n",
    "\n",
    "answer = re.findall(r'\\d', my_string)"
   ]
  },
  {
   "cell_type": "code",
   "execution_count": 37,
   "id": "51c78892",
   "metadata": {},
   "outputs": [],
   "source": [
    "answer.sort()"
   ]
  },
  {
   "cell_type": "code",
   "execution_count": 38,
   "id": "117acf0d",
   "metadata": {},
   "outputs": [],
   "source": [
    "answer = list(map(int, answer))"
   ]
  },
  {
   "cell_type": "code",
   "execution_count": 39,
   "id": "2262fa2d",
   "metadata": {},
   "outputs": [
    {
     "data": {
      "text/plain": [
       "[1, 2, 2, 3, 9]"
      ]
     },
     "execution_count": 39,
     "metadata": {},
     "output_type": "execute_result"
    }
   ],
   "source": [
    "answer"
   ]
  },
  {
   "cell_type": "markdown",
   "id": "e33b649b",
   "metadata": {},
   "source": [
    "================================================================================================================"
   ]
  },
  {
   "cell_type": "markdown",
   "id": "712489f8",
   "metadata": {},
   "source": [
    "- 제출 코드"
   ]
  },
  {
   "cell_type": "code",
   "execution_count": 40,
   "id": "540bab53",
   "metadata": {},
   "outputs": [],
   "source": [
    "import re\n",
    "def solution(my_string):\n",
    "    answer = re.findall(r'\\d', my_string)\n",
    "    answer = list(map(int, answer))\n",
    "    answer.sort()\n",
    "    return answer"
   ]
  },
  {
   "cell_type": "code",
   "execution_count": null,
   "id": "21986e0b",
   "metadata": {},
   "outputs": [],
   "source": []
  }
 ],
 "metadata": {
  "kernelspec": {
   "display_name": "Python 3 (ipykernel)",
   "language": "python",
   "name": "python3"
  },
  "language_info": {
   "codemirror_mode": {
    "name": "ipython",
    "version": 3
   },
   "file_extension": ".py",
   "mimetype": "text/x-python",
   "name": "python",
   "nbconvert_exporter": "python",
   "pygments_lexer": "ipython3",
   "version": "3.9.7"
  }
 },
 "nbformat": 4,
 "nbformat_minor": 5
}
