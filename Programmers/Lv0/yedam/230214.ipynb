{
 "cells": [
  {
   "cell_type": "markdown",
   "id": "7fdc5768",
   "metadata": {},
   "source": [
    "## 숫자 찾기"
   ]
  },
  {
   "cell_type": "markdown",
   "id": "cf475797",
   "metadata": {},
   "source": [
    "- 제출 코드"
   ]
  },
  {
   "cell_type": "code",
   "execution_count": 14,
   "id": "a7976481",
   "metadata": {},
   "outputs": [],
   "source": [
    "def solution(num, k):\n",
    "    num = list(str(num))\n",
    "    \n",
    "    if str(k) in num:\n",
    "        result = num.index(str(k)) + 1\n",
    "        \n",
    "    else:\n",
    "        result = -1\n",
    "    return result"
   ]
  },
  {
   "cell_type": "markdown",
   "id": "0f027459",
   "metadata": {},
   "source": [
    "## n의 배수 고르기"
   ]
  },
  {
   "cell_type": "markdown",
   "id": "31ac641b",
   "metadata": {},
   "source": [
    "- 제출 코드"
   ]
  },
  {
   "cell_type": "code",
   "execution_count": 18,
   "id": "16f3e2b6",
   "metadata": {},
   "outputs": [],
   "source": [
    "def solution(n, numlist):\n",
    "    answer = []\n",
    "    \n",
    "    for num in numlist:\n",
    "        if num % n == 0:\n",
    "            answer.append(num)\n",
    "        \n",
    "    return answer"
   ]
  },
  {
   "cell_type": "markdown",
   "id": "ce94b0d0",
   "metadata": {},
   "source": [
    "## 자릿수 더하기"
   ]
  },
  {
   "cell_type": "code",
   "execution_count": 19,
   "id": "8bf72d13",
   "metadata": {},
   "outputs": [],
   "source": [
    "def solution(n):\n",
    "    answer = 0\n",
    "    num_list = list(str(n))\n",
    "\n",
    "    for plus_num in num_list:\n",
    "        answer += int(plus_num)\n",
    "    return answer"
   ]
  }
 ],
 "metadata": {
  "kernelspec": {
   "display_name": "Python 3 (ipykernel)",
   "language": "python",
   "name": "python3"
  },
  "language_info": {
   "codemirror_mode": {
    "name": "ipython",
    "version": 3
   },
   "file_extension": ".py",
   "mimetype": "text/x-python",
   "name": "python",
   "nbconvert_exporter": "python",
   "pygments_lexer": "ipython3",
   "version": "3.9.7"
  }
 },
 "nbformat": 4,
 "nbformat_minor": 5
}
