{
 "cells": [
  {
   "cell_type": "markdown",
   "id": "3938f545",
   "metadata": {},
   "source": [
    "## 가장 큰 수 찾기"
   ]
  },
  {
   "cell_type": "code",
   "execution_count": 7,
   "id": "c2b3623a",
   "metadata": {},
   "outputs": [],
   "source": [
    "def solution(array):\n",
    "    answer = []\n",
    "    max_value = max(array)\n",
    "    \n",
    "    answer.append(max_value)\n",
    "    answer.append(array.index(max_value))\n",
    "    return answer"
   ]
  },
  {
   "cell_type": "markdown",
   "id": "563add29",
   "metadata": {},
   "source": [
    "## 문자열 계산하기"
   ]
  },
  {
   "cell_type": "code",
   "execution_count": 26,
   "id": "c9710d5d",
   "metadata": {},
   "outputs": [],
   "source": [
    "def solution(my_string):\n",
    "    cal = list(my_string.split())\n",
    "    result = int(cal[0])\n",
    "\n",
    "    for n in range(1, len(cal)):\n",
    "        print(cal[n])\n",
    "        if cal[n] == \"+\":\n",
    "            result += int(cal[n+1])\n",
    "\n",
    "        elif cal[n] == \"-\":\n",
    "            result -= int(cal[n+1])\n",
    "            \n",
    "    return result"
   ]
  },
  {
   "cell_type": "markdown",
   "id": "692b92a1",
   "metadata": {},
   "source": [
    "## 배열의 유사도"
   ]
  },
  {
   "cell_type": "code",
   "execution_count": 33,
   "id": "2704589b",
   "metadata": {},
   "outputs": [],
   "source": [
    "def solution(s1, s2):\n",
    "    cnt = 0\n",
    "    for n1 in s1:\n",
    "        for n2 in s2:\n",
    "            if n1 == n2:\n",
    "                cnt +=1\n",
    "    return cnt"
   ]
  },
  {
   "cell_type": "markdown",
   "id": "947d28ac",
   "metadata": {},
   "source": [
    "- 참고할 만한 풀이"
   ]
  },
  {
   "cell_type": "code",
   "execution_count": 34,
   "id": "c1f53029",
   "metadata": {},
   "outputs": [],
   "source": [
    "def solution(s1, s2):\n",
    "    return len(set(s1)&set(s2));"
   ]
  }
 ],
 "metadata": {
  "kernelspec": {
   "display_name": "Python 3 (ipykernel)",
   "language": "python",
   "name": "python3"
  },
  "language_info": {
   "codemirror_mode": {
    "name": "ipython",
    "version": 3
   },
   "file_extension": ".py",
   "mimetype": "text/x-python",
   "name": "python",
   "nbconvert_exporter": "python",
   "pygments_lexer": "ipython3",
   "version": "3.9.7"
  }
 },
 "nbformat": 4,
 "nbformat_minor": 5
}
