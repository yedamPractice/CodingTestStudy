{
 "cells": [
  {
   "cell_type": "markdown",
   "id": "9043cdf8",
   "metadata": {},
   "source": [
    "## 잘라서 배열로 저장하기"
   ]
  },
  {
   "cell_type": "markdown",
   "id": "e76d1c35",
   "metadata": {},
   "source": [
    "- 제출 코드"
   ]
  },
  {
   "cell_type": "code",
   "execution_count": 32,
   "id": "cc8c7541",
   "metadata": {},
   "outputs": [],
   "source": [
    "import math\n",
    "\n",
    "def solution(my_str, n):\n",
    "    answer = []\n",
    "    cnt = math.ceil(len(my_str)/n)\n",
    "    \n",
    "    start, end = 0, n\n",
    "    \n",
    "    for ch in range(cnt):\n",
    "        answer.append(my_str[start:end])\n",
    "        \n",
    "        start += n\n",
    "        end += n\n",
    "        \n",
    "    return answer"
   ]
  },
  {
   "cell_type": "markdown",
   "id": "0b8a4485",
   "metadata": {},
   "source": [
    "## 중복된 숫자 개수"
   ]
  },
  {
   "cell_type": "markdown",
   "id": "1b18be56",
   "metadata": {},
   "source": [
    "- 제출 코드"
   ]
  },
  {
   "cell_type": "code",
   "execution_count": 35,
   "id": "14b64998",
   "metadata": {},
   "outputs": [],
   "source": [
    "def solution(array, n):\n",
    "    result = 0\n",
    "    \n",
    "    for num in array:\n",
    "        if num == n:\n",
    "            result += 1\n",
    "            \n",
    "    return result"
   ]
  },
  {
   "cell_type": "markdown",
   "id": "9d24dc36",
   "metadata": {},
   "source": [
    "- 다른 사람 풀이"
   ]
  },
  {
   "cell_type": "code",
   "execution_count": 36,
   "id": "a0dbb90c",
   "metadata": {},
   "outputs": [],
   "source": [
    "def solution(array, n):\n",
    "    return array.count(n)"
   ]
  },
  {
   "cell_type": "markdown",
   "id": "8ff6dd04",
   "metadata": {},
   "source": [
    "## 머쓱이보다 키 큰 사람"
   ]
  },
  {
   "cell_type": "code",
   "execution_count": 37,
   "id": "ab161186",
   "metadata": {},
   "outputs": [],
   "source": [
    "def solution(array, height):\n",
    "    result = 0\n",
    "    \n",
    "    for n in array:\n",
    "        if n > height:\n",
    "            result += 1\n",
    "    return result"
   ]
  }
 ],
 "metadata": {
  "kernelspec": {
   "display_name": "Python 3 (ipykernel)",
   "language": "python",
   "name": "python3"
  },
  "language_info": {
   "codemirror_mode": {
    "name": "ipython",
    "version": 3
   },
   "file_extension": ".py",
   "mimetype": "text/x-python",
   "name": "python",
   "nbconvert_exporter": "python",
   "pygments_lexer": "ipython3",
   "version": "3.9.7"
  }
 },
 "nbformat": 4,
 "nbformat_minor": 5
}
