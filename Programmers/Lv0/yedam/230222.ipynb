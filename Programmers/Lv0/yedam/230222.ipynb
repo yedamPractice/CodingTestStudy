{
 "cells": [
  {
   "cell_type": "markdown",
   "id": "ed290652",
   "metadata": {},
   "source": [
    "## 삼각형의 완성 조건(2)"
   ]
  },
  {
   "cell_type": "code",
   "execution_count": 18,
   "id": "237c35e6",
   "metadata": {},
   "outputs": [],
   "source": [
    "def solution(sides):\n",
    "    max_num = sum(sides)\n",
    "    min_num = max(sides) - min(sides)\n",
    "    \n",
    "    result = 0\n",
    "    for n in range(min_num+1, max_num):\n",
    "        result += 1\n",
    "    return result"
   ]
  },
  {
   "cell_type": "markdown",
   "id": "94d6471a",
   "metadata": {},
   "source": [
    "## 외계어 사전"
   ]
  },
  {
   "cell_type": "code",
   "execution_count": 35,
   "id": "f47b59fc",
   "metadata": {},
   "outputs": [],
   "source": [
    "def solution(spell, dic):\n",
    "    answer = 2\n",
    "    for string in dic:\n",
    "        temp = 0\n",
    "        for c in spell:\n",
    "            if c in string:\n",
    "                    temp += 1\n",
    "\n",
    "        if temp == len(string) & len(spell) == len(string):\n",
    "            answer = 1\n",
    "            \n",
    "    return answer"
   ]
  },
  {
   "cell_type": "markdown",
   "id": "c7afb7fe",
   "metadata": {},
   "source": [
    "## 저주의 숫자 3"
   ]
  },
  {
   "cell_type": "code",
   "execution_count": 81,
   "id": "9e905263",
   "metadata": {},
   "outputs": [],
   "source": [
    "def solution(n):\n",
    "    answer = 0\n",
    "\n",
    "    for i in range(1, n+1):\n",
    "        answer += 1 \n",
    "        print(\"첫 시작\", i, answer)\n",
    "        while answer % 10 == 3 or answer // 10==3 or answer %3==0 or  answer %100 ==3 or answer //100 == 3 or answer%100 // 10 == 3:\n",
    "            answer += 1\n",
    "\n",
    "    return answer"
   ]
  },
  {
   "cell_type": "code",
   "execution_count": null,
   "id": "f51b6927",
   "metadata": {},
   "outputs": [],
   "source": []
  }
 ],
 "metadata": {
  "kernelspec": {
   "display_name": "Python 3 (ipykernel)",
   "language": "python",
   "name": "python3"
  },
  "language_info": {
   "codemirror_mode": {
    "name": "ipython",
    "version": 3
   },
   "file_extension": ".py",
   "mimetype": "text/x-python",
   "name": "python",
   "nbconvert_exporter": "python",
   "pygments_lexer": "ipython3",
   "version": "3.9.7"
  }
 },
 "nbformat": 4,
 "nbformat_minor": 5
}
