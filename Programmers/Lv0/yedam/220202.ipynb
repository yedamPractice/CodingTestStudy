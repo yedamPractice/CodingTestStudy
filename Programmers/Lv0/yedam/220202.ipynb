{
 "cells": [
  {
   "cell_type": "markdown",
   "id": "bb6d840d",
   "metadata": {},
   "source": [
    "## 주사위의 개수"
   ]
  },
  {
   "cell_type": "markdown",
   "id": "a1930c70",
   "metadata": {},
   "source": [
    "- my code"
   ]
  },
  {
   "cell_type": "code",
   "execution_count": 2,
   "id": "86a75d73",
   "metadata": {},
   "outputs": [],
   "source": [
    "def solution(box, n):\n",
    "    return (box[0]//n) * (box[1]//n) * (box[2]//n)"
   ]
  },
  {
   "cell_type": "markdown",
   "id": "c82aa99f",
   "metadata": {},
   "source": [
    "## 합성수 찾기"
   ]
  },
  {
   "cell_type": "code",
   "execution_count": 22,
   "id": "56e1ad48",
   "metadata": {},
   "outputs": [],
   "source": [
    "# result = 주어진 수에서 1&소수 개수 뺀 값 \n",
    "# 주어진 수 보다 작은 소수 개수 구하는 함수 만들기\n",
    "def prime_count(n):\n",
    "    result = 0\n",
    "    \n",
    "    for i in range(2, n+1):\n",
    "        cnt = 0\n",
    "        for j in range(2, i//2 +1):\n",
    "            if i%j == 0:\n",
    "                cnt += 1\n",
    "        if cnt == 0:\n",
    "            result += 1\n",
    "    \n",
    "    return result"
   ]
  },
  {
   "cell_type": "code",
   "execution_count": 24,
   "id": "ee1bc980",
   "metadata": {},
   "outputs": [
    {
     "data": {
      "text/plain": [
       "3"
      ]
     },
     "execution_count": 24,
     "metadata": {},
     "output_type": "execute_result"
    }
   ],
   "source": [
    "prime_count(5)"
   ]
  },
  {
   "cell_type": "code",
   "execution_count": null,
   "id": "f2295afb",
   "metadata": {},
   "outputs": [],
   "source": [
    "def solution(n):\n",
    "    return n - prime_count(5) - 1"
   ]
  },
  {
   "cell_type": "markdown",
   "id": "4b22dee4",
   "metadata": {},
   "source": [
    "- my code"
   ]
  },
  {
   "cell_type": "code",
   "execution_count": null,
   "id": "9f16209b",
   "metadata": {},
   "outputs": [],
   "source": []
  },
  {
   "cell_type": "markdown",
   "id": "88457d9f",
   "metadata": {},
   "source": [
    "## 최댓값 만들기(1)"
   ]
  },
  {
   "cell_type": "code",
   "execution_count": 21,
   "id": "f320d3ec",
   "metadata": {},
   "outputs": [],
   "source": [
    "def solution(numbers):\n",
    "    numbers.sort(reverse=True)\n",
    "    return numbers[0] * numbers[1]"
   ]
  },
  {
   "cell_type": "code",
   "execution_count": null,
   "id": "b937adb7",
   "metadata": {},
   "outputs": [],
   "source": []
  }
 ],
 "metadata": {
  "kernelspec": {
   "display_name": "Python 3 (ipykernel)",
   "language": "python",
   "name": "python3"
  },
  "language_info": {
   "codemirror_mode": {
    "name": "ipython",
    "version": 3
   },
   "file_extension": ".py",
   "mimetype": "text/x-python",
   "name": "python",
   "nbconvert_exporter": "python",
   "pygments_lexer": "ipython3",
   "version": "3.9.7"
  }
 },
 "nbformat": 4,
 "nbformat_minor": 5
}
