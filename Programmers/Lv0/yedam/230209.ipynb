{
 "cells": [
  {
   "cell_type": "markdown",
   "id": "8e98acd0",
   "metadata": {},
   "source": [
    "## 대문자와 소문자"
   ]
  },
  {
   "cell_type": "markdown",
   "id": "d51fc81a",
   "metadata": {},
   "source": [
    "- 제출 코드"
   ]
  },
  {
   "cell_type": "code",
   "execution_count": 18,
   "id": "f68c4843",
   "metadata": {},
   "outputs": [],
   "source": [
    "def solution(my_string):\n",
    "    my_string = list(my_string)\n",
    "    answer = []\n",
    "    for c in my_string:\n",
    "        if c.isupper() :\n",
    "            answer.append(c.lower())\n",
    "        else:\n",
    "            answer.append(c.upper())\n",
    "            \n",
    "    return ''.join(answer)"
   ]
  },
  {
   "cell_type": "markdown",
   "id": "43d99c40",
   "metadata": {},
   "source": [
    "## 영어가 싫어요"
   ]
  },
  {
   "cell_type": "markdown",
   "id": "fd44b025",
   "metadata": {},
   "source": [
    "- 제출 코드"
   ]
  },
  {
   "cell_type": "code",
   "execution_count": 39,
   "id": "30d802fb",
   "metadata": {},
   "outputs": [],
   "source": [
    "def solution(numbers):\n",
    "    eng = {\"zero\": \"0\", \"one\" : '1', \"two\" : '2', \"three\" :'3', \"four\":'4', \"five\":'5',\n",
    "       \"six\":'6' , \"seven\":'7', \"eight\":'8', \"nine\":'9'}\n",
    "    \n",
    "    for english, num in eng.items():\n",
    "        numbers = numbers.replace(english, num)\n",
    "    \n",
    "    return int(numbers)"
   ]
  },
  {
   "cell_type": "markdown",
   "id": "7b1ac6e4",
   "metadata": {},
   "source": [
    "## 인덱스 바꾸기"
   ]
  },
  {
   "cell_type": "markdown",
   "id": "433a2b93",
   "metadata": {},
   "source": [
    "- 제출 코드"
   ]
  },
  {
   "cell_type": "code",
   "execution_count": 27,
   "id": "5c5da2b7",
   "metadata": {},
   "outputs": [],
   "source": [
    "def solution(my_string, num1, num2):\n",
    "    my_string = list(my_string)\n",
    "    \n",
    "    temp1 = my_string[num1]\n",
    "    temp2 = my_string[num2]\n",
    "    \n",
    "    my_string[num1] = temp2\n",
    "    my_string[num2] = temp1\n",
    "    \n",
    "    return ''.join(my_string)"
   ]
  }
 ],
 "metadata": {
  "kernelspec": {
   "display_name": "Python 3 (ipykernel)",
   "language": "python",
   "name": "python3"
  },
  "language_info": {
   "codemirror_mode": {
    "name": "ipython",
    "version": 3
   },
   "file_extension": ".py",
   "mimetype": "text/x-python",
   "name": "python",
   "nbconvert_exporter": "python",
   "pygments_lexer": "ipython3",
   "version": "3.9.7"
  }
 },
 "nbformat": 4,
 "nbformat_minor": 5
}
