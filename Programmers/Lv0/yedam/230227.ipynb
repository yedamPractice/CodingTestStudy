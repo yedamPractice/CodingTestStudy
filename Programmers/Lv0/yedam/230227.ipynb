{
 "cells": [
  {
   "cell_type": "markdown",
   "id": "a4dafb75",
   "metadata": {},
   "source": [
    "## 로그인 성공?"
   ]
  },
  {
   "cell_type": "markdown",
   "id": "a0a2f8ad",
   "metadata": {},
   "source": [
    "- 제출 코드"
   ]
  },
  {
   "cell_type": "code",
   "execution_count": 6,
   "id": "25805804",
   "metadata": {},
   "outputs": [],
   "source": [
    "def solution(id_pw, db):\n",
    "    answer = \"fail\"\n",
    "    for looking_id in db:\n",
    "        if id_pw[0] == looking_id[0]:\n",
    "            if id_pw[1]== looking_id[1]:\n",
    "                answer = \"login\"\n",
    "            else:\n",
    "                answer = \"wrong pw\"\n",
    "    return answer"
   ]
  },
  {
   "cell_type": "markdown",
   "id": "28f5fc63",
   "metadata": {},
   "source": [
    "## 치킨 쿠폰"
   ]
  },
  {
   "cell_type": "markdown",
   "id": "09c9e5fd",
   "metadata": {},
   "source": [
    "- 제출 코드"
   ]
  },
  {
   "cell_type": "code",
   "execution_count": 55,
   "id": "cbc8b5fd",
   "metadata": {},
   "outputs": [],
   "source": [
    "def solution(chicken):\n",
    "    result = 0\n",
    "    \n",
    "    # 계산하면서 남는 쿠폰\n",
    "    remaining = chicken\n",
    "    # 쿠폰으로 주문한 후 생긴 쿠폰\n",
    "    over_coupon = 0\n",
    "    \n",
    "    while(remaining >= 10):\n",
    "        result += remaining // 10\n",
    "        remaining = remaining // 10\n",
    "        \n",
    "    over_coupon = list(str(chicken))\n",
    "    over_coupon = sum(map(int, over_coupon))\n",
    "    \n",
    "    result += over_coupon //10\n",
    "    plus_coupon = over_coupon % 10\n",
    "    over_coupon = over_coupon // 10 + plus_coupon\n",
    "    \n",
    "    if over_coupon >= 10:\n",
    "        result += over_coupon//10\n",
    "    return result"
   ]
  },
  {
   "cell_type": "markdown",
   "id": "4501e7b3",
   "metadata": {},
   "source": [
    "## 이진수 더하기"
   ]
  },
  {
   "cell_type": "markdown",
   "id": "b4534395",
   "metadata": {},
   "source": [
    "- 제출 코드"
   ]
  },
  {
   "cell_type": "code",
   "execution_count": 36,
   "id": "5d236878",
   "metadata": {},
   "outputs": [],
   "source": [
    "def solution(bin1, bin2):\n",
    "    #2진수로 나타내기\n",
    "    bin1 = '0b' + bin1\n",
    "    bin2 = '0b' + bin2\n",
    "    \n",
    "    #10진수로 변환\n",
    "    bin1 = int(bin1, 2)\n",
    "    bin2 = int(bin2, 2)\n",
    "    \n",
    "    result = bin1 + bin2\n",
    "    \n",
    "    return bin(result).replace('0b', '')"
   ]
  }
 ],
 "metadata": {
  "kernelspec": {
   "display_name": "Python 3 (ipykernel)",
   "language": "python",
   "name": "python3"
  },
  "language_info": {
   "codemirror_mode": {
    "name": "ipython",
    "version": 3
   },
   "file_extension": ".py",
   "mimetype": "text/x-python",
   "name": "python",
   "nbconvert_exporter": "python",
   "pygments_lexer": "ipython3",
   "version": "3.9.7"
  }
 },
 "nbformat": 4,
 "nbformat_minor": 5
}
