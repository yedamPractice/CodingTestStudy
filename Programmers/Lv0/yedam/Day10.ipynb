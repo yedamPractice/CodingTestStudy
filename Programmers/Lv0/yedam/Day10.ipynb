{
 "cells": [
  {
   "cell_type": "markdown",
   "id": "99d13178",
   "metadata": {},
   "source": [
    "## Day10"
   ]
  },
  {
   "cell_type": "markdown",
   "id": "5c7d36c3",
   "metadata": {},
   "source": [
    "### - 2차원으로 만들기"
   ]
  },
  {
   "cell_type": "markdown",
   "id": "b3f99a83",
   "metadata": {},
   "source": [
    "- my code"
   ]
  },
  {
   "cell_type": "code",
   "execution_count": 76,
   "id": "ccc4f063",
   "metadata": {},
   "outputs": [
    {
     "data": {
      "text/plain": [
       "[[1, 2], [3, 4], [5, 6], [7, 8]]"
      ]
     },
     "execution_count": 76,
     "metadata": {},
     "output_type": "execute_result"
    }
   ],
   "source": [
    "\n",
    "n = 2\n",
    "num_list = [1, 2, 3, 4, 5, 6, 7, 8]\n",
    "loop_len = int(len(num_list) /n)\n",
    "cnt = 0\n",
    "answer = []\n",
    "for row in range (loop_len):\n",
    "    temp = []\n",
    "    for col in range (n):\n",
    "        temp.append(num_list[cnt])\n",
    "        cnt +=1\n",
    "    answer.append(temp)\n",
    "\n",
    "answer"
   ]
  },
  {
   "cell_type": "markdown",
   "id": "113ccee3",
   "metadata": {},
   "source": [
    "- other code"
   ]
  },
  {
   "cell_type": "code",
   "execution_count": 77,
   "id": "63ac4dd7",
   "metadata": {},
   "outputs": [],
   "source": [
    "import numpy as np\n",
    "def solution(num_list, n):\n",
    "    li = np.array(num_list).reshape(-1, n)\n",
    "    return li.tolist()"
   ]
  },
  {
   "cell_type": "code",
   "execution_count": 81,
   "id": "3b7314b9",
   "metadata": {},
   "outputs": [
    {
     "data": {
      "text/plain": [
       "array([[1, 2],\n",
       "       [3, 4],\n",
       "       [5, 6]])"
      ]
     },
     "execution_count": 81,
     "metadata": {},
     "output_type": "execute_result"
    }
   ],
   "source": [
    "reshape_ex =  np.array([1, 2, 3, 4, 5, 6])\n",
    "reshape_ex.reshape(-1, 2)"
   ]
  },
  {
   "cell_type": "markdown",
   "id": "efe23374",
   "metadata": {},
   "source": [
    "### - 공 던지기"
   ]
  },
  {
   "cell_type": "code",
   "execution_count": 95,
   "id": "b4d521f2",
   "metadata": {},
   "outputs": [],
   "source": [
    "import math\n",
    "numbers = [1, 2, 3]\n",
    "n = math.ceil(len(numbers)/2)"
   ]
  },
  {
   "cell_type": "code",
   "execution_count": 96,
   "id": "77e0b8e6",
   "metadata": {},
   "outputs": [
    {
     "ename": "SyntaxError",
     "evalue": "'return' outside function (Temp/ipykernel_11644/2667924490.py, line 2)",
     "output_type": "error",
     "traceback": [
      "\u001b[1;36m  File \u001b[1;32m\"C:\\Users\\yeada\\AppData\\Local\\Temp/ipykernel_11644/2667924490.py\"\u001b[1;36m, line \u001b[1;32m2\u001b[0m\n\u001b[1;33m    return numbers[2*k-2]\u001b[0m\n\u001b[1;37m    ^\u001b[0m\n\u001b[1;31mSyntaxError\u001b[0m\u001b[1;31m:\u001b[0m 'return' outside function\n"
     ]
    }
   ],
   "source": [
    "if k <= n:\n",
    "    return numbers[2*k-2]\n",
    "else:\n",
    "    return numbers[2*n-2]"
   ]
  },
  {
   "cell_type": "code",
   "execution_count": 111,
   "id": "09c84284",
   "metadata": {},
   "outputs": [
    {
     "data": {
      "text/plain": [
       "2"
      ]
     },
     "execution_count": 111,
     "metadata": {},
     "output_type": "execute_result"
    }
   ],
   "source": [
    "k = 3\n",
    "numbers = [1, 2, 3]\n",
    "use_list = numbers.copy()\n",
    "\n",
    "while(len(use_list) < 2*k-1):\n",
    "    use_list += numbers\n",
    "    \n",
    "use_list[2*k-2]\n"
   ]
  },
  {
   "cell_type": "code",
   "execution_count": 104,
   "id": "4e5e61f9",
   "metadata": {},
   "outputs": [
    {
     "data": {
      "text/plain": [
       "[1, 2, 3, 1, 2, 3, 1, 2, 3, 1, 2, 3]"
      ]
     },
     "execution_count": 104,
     "metadata": {},
     "output_type": "execute_result"
    }
   ],
   "source": [
    "use_list"
   ]
  },
  {
   "cell_type": "markdown",
   "id": "1e6016c2",
   "metadata": {},
   "source": [
    "- my code"
   ]
  },
  {
   "cell_type": "code",
   "execution_count": 112,
   "id": "b60c2ca3",
   "metadata": {},
   "outputs": [],
   "source": [
    "def solution(numbers, k):\n",
    "    use_list = numbers.copy()\n",
    "\n",
    "    while(len(use_list) < 2*k-1):\n",
    "        use_list += numbers\n",
    "\n",
    "    return use_list[2*k-2]"
   ]
  },
  {
   "cell_type": "markdown",
   "id": "5063e4ef",
   "metadata": {},
   "source": [
    "- other code"
   ]
  },
  {
   "cell_type": "code",
   "execution_count": 113,
   "id": "812269a8",
   "metadata": {},
   "outputs": [],
   "source": [
    "def solution(numbers, k):\n",
    "    return numbers[2 * (k - 1) % len(numbers)]"
   ]
  },
  {
   "cell_type": "markdown",
   "id": "139fc2cc",
   "metadata": {},
   "source": [
    "### - 배열 회전시키기"
   ]
  },
  {
   "cell_type": "code",
   "execution_count": 116,
   "id": "ff826ce2",
   "metadata": {},
   "outputs": [
    {
     "data": {
      "text/plain": [
       "[1, 2, 3]"
      ]
     },
     "execution_count": 116,
     "metadata": {},
     "output_type": "execute_result"
    }
   ],
   "source": [
    "numbers = [0, 1, 2, 3]\n",
    "\n",
    "numbers[1::]"
   ]
  },
  {
   "cell_type": "markdown",
   "id": "7a44f0e2",
   "metadata": {},
   "source": [
    "- my code"
   ]
  },
  {
   "cell_type": "code",
   "execution_count": 118,
   "id": "b9a774c0",
   "metadata": {},
   "outputs": [],
   "source": [
    "def solution(numbers, direction):\n",
    "    start_len = len(numbers)\n",
    "    if direction == 'right':\n",
    "        moving = numbers[start_len-1]\n",
    "        numbers.insert(0, moving)\n",
    "        return numbers[0 : start_len]\n",
    "    \n",
    "    elif direction == 'left':\n",
    "        moving = numbers[0]\n",
    "        numbers.append(moving)\n",
    "        return numbers[1::]"
   ]
  },
  {
   "cell_type": "markdown",
   "id": "b9775a53",
   "metadata": {},
   "source": [
    "- other code"
   ]
  },
  {
   "cell_type": "code",
   "execution_count": 117,
   "id": "37e0a3bf",
   "metadata": {},
   "outputs": [],
   "source": [
    "def solution(numbers, direction):\n",
    "    if direction == \"right\":\n",
    "        answer = [numbers[-1]] + numbers[:len(numbers)-1]\n",
    "    else:\n",
    "        answer = numbers[1:] + [numbers[0]]\n",
    "    return answer"
   ]
  },
  {
   "cell_type": "code",
   "execution_count": null,
   "id": "035227e8",
   "metadata": {},
   "outputs": [],
   "source": []
  }
 ],
 "metadata": {
  "kernelspec": {
   "display_name": "Python 3 (ipykernel)",
   "language": "python",
   "name": "python3"
  },
  "language_info": {
   "codemirror_mode": {
    "name": "ipython",
    "version": 3
   },
   "file_extension": ".py",
   "mimetype": "text/x-python",
   "name": "python",
   "nbconvert_exporter": "python",
   "pygments_lexer": "ipython3",
   "version": "3.9.7"
  }
 },
 "nbformat": 4,
 "nbformat_minor": 5
}
