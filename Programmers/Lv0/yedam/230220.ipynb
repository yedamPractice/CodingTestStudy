{
 "cells": [
  {
   "cell_type": "markdown",
   "id": "e1d14715",
   "metadata": {},
   "source": [
    "## 직사각형 넓이 구하기"
   ]
  },
  {
   "cell_type": "code",
   "execution_count": null,
   "id": "042d4625",
   "metadata": {},
   "outputs": [],
   "source": [
    "def solution(dots):\n",
    "    dots_x = []\n",
    "    dots_y = []\n",
    "    \n",
    "    for xy in dots:\n",
    "        dots_x.append(xy[0])\n",
    "        dots_y.append(xy[1])\n",
    "        \n",
    "    width = abs(max(dots_x) - min(dots_x))\n",
    "    height = abs(max(dots_y) - min(dots_y))\n",
    "    \n",
    "    return width * height"
   ]
  },
  {
   "cell_type": "markdown",
   "id": "050a0139",
   "metadata": {},
   "source": [
    "## 캐릭터의 좌표"
   ]
  },
  {
   "cell_type": "code",
   "execution_count": 23,
   "id": "f1ad9572",
   "metadata": {},
   "outputs": [],
   "source": [
    "# keyinput 처리 함수\n",
    "def direction(key_value, present_location, board):\n",
    "    if key_value == \"down\":\n",
    "        if board[1] > abs(present_location[1]) or present_location[1] > 0:\n",
    "            present_location[1] -= 1\n",
    "        \n",
    "    if key_value == \"up\":\n",
    "        if board[1] > abs(present_location[1]) or present_location[1] < 0:\n",
    "            present_location[1] += 1\n",
    "    \n",
    "    if key_value == \"left\":\n",
    "        if board[0] > abs(present_location[0]) or present_location[0] > 0:\n",
    "            present_location[0] -= 1\n",
    "    \n",
    "    if key_value == \"right\":\n",
    "        if board[0] > abs(present_location[0]) or present_location[0] < 0:\n",
    "            present_location[0] += 1\n",
    "        \n",
    "    return present_location\n",
    "\n",
    "\n",
    "def solution(keyinput, board):\n",
    "    # 양 옆으로 실제 움직일 수 있는 크기로 다시 저장\n",
    "    board[0] = int(board[0]/2)\n",
    "    board[1] = int(board[1] /2)\n",
    "    \n",
    "    result = [0, 0]\n",
    "    \n",
    "    for val in keyinput:\n",
    "        result = direction(val, result, board)\n",
    "    \n",
    "    return result"
   ]
  },
  {
   "cell_type": "markdown",
   "id": "8341226b",
   "metadata": {},
   "source": [
    "## 최댓값 만들기(2)"
   ]
  },
  {
   "cell_type": "code",
   "execution_count": 17,
   "id": "c227b8a1",
   "metadata": {},
   "outputs": [],
   "source": [
    "def solution(numbers):\n",
    "    answer = 0\n",
    "    \n",
    "    for n1 in range(len(numbers)):\n",
    "        for n2 in range(n1+1, len(numbers)):\n",
    "            if answer < numbers[n1] * numbers[n2]:\n",
    "                answer = numbers[n1] * numbers[n2]\n",
    "    \n",
    "    # numbers 길이가 2일 때 둘 중 하나만 음수이면,,\n",
    "    if len(numbers) ==2:\n",
    "        answer = numbers[0] * numbers[1]\n",
    "    return answer"
   ]
  },
  {
   "cell_type": "code",
   "execution_count": null,
   "id": "16dc90e6",
   "metadata": {},
   "outputs": [],
   "source": []
  }
 ],
 "metadata": {
  "kernelspec": {
   "display_name": "Python 3 (ipykernel)",
   "language": "python",
   "name": "python3"
  },
  "language_info": {
   "codemirror_mode": {
    "name": "ipython",
    "version": 3
   },
   "file_extension": ".py",
   "mimetype": "text/x-python",
   "name": "python",
   "nbconvert_exporter": "python",
   "pygments_lexer": "ipython3",
   "version": "3.9.7"
  }
 },
 "nbformat": 4,
 "nbformat_minor": 5
}
