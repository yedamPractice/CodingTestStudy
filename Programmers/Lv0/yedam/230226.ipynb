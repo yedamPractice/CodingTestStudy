{
 "cells": [
  {
   "cell_type": "markdown",
   "id": "60336d35",
   "metadata": {},
   "source": [
    "## 등수 매기기"
   ]
  },
  {
   "cell_type": "markdown",
   "id": "e4872ba9",
   "metadata": {},
   "source": [
    "- 제출 코드"
   ]
  },
  {
   "cell_type": "code",
   "execution_count": 45,
   "id": "38164ffb",
   "metadata": {},
   "outputs": [],
   "source": [
    "def solution(score):\n",
    "    result = []\n",
    "    answer = []\n",
    "    for mean in score:\n",
    "        result.append(sum(mean)/2)\n",
    "    \n",
    "    temp_sizecheck = result.copy()\n",
    "    temp_sizecheck.sort()\n",
    "    temp_sizecheck.reverse()\n",
    "    \n",
    "    for n in result:\n",
    "        answer.append(temp_sizecheck.index(n) + 1)\n",
    "        \n",
    "    return answer"
   ]
  },
  {
   "cell_type": "markdown",
   "id": "ca6c2090",
   "metadata": {},
   "source": [
    "## 특이한 정렬"
   ]
  },
  {
   "cell_type": "markdown",
   "id": "794345cf",
   "metadata": {},
   "source": [
    "- 제출 코드"
   ]
  },
  {
   "cell_type": "code",
   "execution_count": 98,
   "id": "c9ba9e01",
   "metadata": {},
   "outputs": [],
   "source": [
    "def solution(numlist, n):\n",
    "    return sorted(numlist, key = lambda x : (abs(x-n), -x))"
   ]
  },
  {
   "cell_type": "markdown",
   "id": "d7708681",
   "metadata": {},
   "source": [
    "## 옹알이(1)"
   ]
  },
  {
   "cell_type": "markdown",
   "id": "0566f147",
   "metadata": {},
   "source": [
    "- 제출 코드"
   ]
  },
  {
   "cell_type": "code",
   "execution_count": 92,
   "id": "705733d3",
   "metadata": {},
   "outputs": [],
   "source": [
    "def solution(babbling):\n",
    "    can_tell = [\"aya\", \"ye\", \"woo\", \"ma\"]\n",
    "    can_tell_check = can_tell[::-1]\n",
    "    answer = 0\n",
    "    \n",
    "    for saying in babbling:\n",
    "        \n",
    "        temp = saying\n",
    "        for word in can_tell:\n",
    "            saying = saying.replace(word, \" \")\n",
    "        \n",
    "        if len(saying.strip()) == 0:\n",
    "            answer += 1\n",
    "            \n",
    "    return answer"
   ]
  },
  {
   "cell_type": "code",
   "execution_count": null,
   "id": "3b5c2fb2",
   "metadata": {},
   "outputs": [],
   "source": []
  }
 ],
 "metadata": {
  "kernelspec": {
   "display_name": "Python 3 (ipykernel)",
   "language": "python",
   "name": "python3"
  },
  "language_info": {
   "codemirror_mode": {
    "name": "ipython",
    "version": 3
   },
   "file_extension": ".py",
   "mimetype": "text/x-python",
   "name": "python",
   "nbconvert_exporter": "python",
   "pygments_lexer": "ipython3",
   "version": "3.9.7"
  }
 },
 "nbformat": 4,
 "nbformat_minor": 5
}
