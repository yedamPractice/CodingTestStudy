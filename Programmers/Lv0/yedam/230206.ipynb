{
 "cells": [
  {
   "cell_type": "markdown",
   "id": "d7df7f4f",
   "metadata": {},
   "source": [
    "## 숨어있는 숫자의 덧셈(1)"
   ]
  },
  {
   "cell_type": "code",
   "execution_count": 1,
   "id": "094cda21",
   "metadata": {},
   "outputs": [],
   "source": [
    "import re\n",
    "\n",
    "my_string = \"aAb1B2cC34oOp\"\n",
    "answer = re.findall(r'\\d', my_string)"
   ]
  },
  {
   "cell_type": "code",
   "execution_count": 5,
   "id": "0162baef",
   "metadata": {},
   "outputs": [],
   "source": [
    "answer = list(map(int, answer))"
   ]
  },
  {
   "cell_type": "code",
   "execution_count": 6,
   "id": "21a3690a",
   "metadata": {},
   "outputs": [
    {
     "data": {
      "text/plain": [
       "10"
      ]
     },
     "execution_count": 6,
     "metadata": {},
     "output_type": "execute_result"
    }
   ],
   "source": [
    "sum(answer)"
   ]
  },
  {
   "cell_type": "markdown",
   "id": "81d5dfd6",
   "metadata": {},
   "source": [
    " - 제출 코드"
   ]
  },
  {
   "cell_type": "code",
   "execution_count": 7,
   "id": "fbf16c18",
   "metadata": {},
   "outputs": [],
   "source": [
    "import re\n",
    "\n",
    "def solution(my_string):\n",
    "    answer = re.findall(r'\\d', my_string)\n",
    "    answer = list(map(int, answer))\n",
    "\n",
    "    return sum(answer)"
   ]
  },
  {
   "cell_type": "markdown",
   "id": "77bb04bc",
   "metadata": {},
   "source": [
    "## 소인수분해"
   ]
  },
  {
   "cell_type": "code",
   "execution_count": 46,
   "id": "c71d5d98",
   "metadata": {},
   "outputs": [],
   "source": [
    "# 주어진 수보다 작은 소수 반환하는 함수\n",
    "def prime(n):\n",
    "    answer = []\n",
    "    for i in range(2, n+1):\n",
    "        cnt = 0\n",
    "        for j in range(2, i-1):\n",
    "            if i % j == 0:\n",
    "                cnt += 1\n",
    "            \n",
    "        if cnt == 0:\n",
    "            answer.append(i)\n",
    "            \n",
    "    return answer"
   ]
  },
  {
   "cell_type": "code",
   "execution_count": 50,
   "id": "dcecc1fc",
   "metadata": {},
   "outputs": [
    {
     "data": {
      "text/plain": [
       "[2, 3]"
      ]
     },
     "execution_count": 50,
     "metadata": {},
     "output_type": "execute_result"
    }
   ],
   "source": [
    "n = 12\n",
    "num_prime = prime(n)\n",
    "result = []\n",
    "for i in num_prime:\n",
    "    if n % i == 0:\n",
    "        result.append(i)\n",
    "        \n",
    "result"
   ]
  },
  {
   "cell_type": "markdown",
   "id": "e3175540",
   "metadata": {},
   "source": [
    "- 제출 코드"
   ]
  },
  {
   "cell_type": "code",
   "execution_count": 51,
   "id": "445b64d5",
   "metadata": {},
   "outputs": [],
   "source": [
    "# 주어진 수 보다 작은 소수 구하는 함수\n",
    "def prime(n):\n",
    "    answer = []\n",
    "    \n",
    "    for i in range(2, n+1):\n",
    "        \n",
    "        cnt = 0\n",
    "        for j in range(2, i-1):\n",
    "            if i%j == 0:\n",
    "                cnt += 1\n",
    "                \n",
    "        if cnt == 0:\n",
    "            answer.append(i)\n",
    "            \n",
    "    return answer\n",
    "\n",
    "def solution(n):\n",
    "    result = []\n",
    "    \n",
    "    num_prime = prime(n)\n",
    "    \n",
    "    # 주어진 수 % 소수 == 0 이면 result에 추가\n",
    "    for i in num_prime:\n",
    "        if n % i == 0:\n",
    "            result.append(i)\n",
    "            \n",
    "    return result"
   ]
  },
  {
   "cell_type": "markdown",
   "id": "36d0ffa3",
   "metadata": {},
   "source": [
    "## 컨트롤 제트"
   ]
  },
  {
   "cell_type": "code",
   "execution_count": 10,
   "id": "8c80c4cf",
   "metadata": {},
   "outputs": [],
   "source": [
    "s = \"1 2 Z 3\""
   ]
  },
  {
   "cell_type": "code",
   "execution_count": 13,
   "id": "02bbd6b9",
   "metadata": {},
   "outputs": [],
   "source": [
    "s = s.split()"
   ]
  },
  {
   "cell_type": "code",
   "execution_count": 31,
   "id": "f3183f04",
   "metadata": {},
   "outputs": [
    {
     "data": {
      "text/plain": [
       "'3'"
      ]
     },
     "execution_count": 31,
     "metadata": {},
     "output_type": "execute_result"
    }
   ],
   "source": [
    "s[-1]"
   ]
  },
  {
   "cell_type": "code",
   "execution_count": 32,
   "id": "7702bc89",
   "metadata": {},
   "outputs": [
    {
     "name": "stdout",
     "output_type": "stream",
     "text": [
      "0 ['1']\n",
      "1 ['1']\n",
      "2 ['1']\n"
     ]
    }
   ],
   "source": [
    "answer = []\n",
    "\n",
    "for n in range(len(s)-1):\n",
    "    if s[n] != 'Z' and s[n+1] != 'Z':\n",
    "        answer.append(s[n])\n",
    "    print(n, answer)\n",
    "if s[-1] != 'Z':\n",
    "    answer.append(s[-1])"
   ]
  },
  {
   "cell_type": "code",
   "execution_count": 34,
   "id": "bea2f7ab",
   "metadata": {},
   "outputs": [
    {
     "data": {
      "text/plain": [
       "4"
      ]
     },
     "execution_count": 34,
     "metadata": {},
     "output_type": "execute_result"
    }
   ],
   "source": [
    "answer = list(map(int, answer))\n",
    "sum(answer)"
   ]
  },
  {
   "cell_type": "markdown",
   "id": "93a32a6a",
   "metadata": {},
   "source": [
    "- 제출 코드"
   ]
  },
  {
   "cell_type": "code",
   "execution_count": 39,
   "id": "bbe84d6e",
   "metadata": {},
   "outputs": [],
   "source": [
    "def solution(s):\n",
    "    answer = []\n",
    "    # s를 공백 기준으로 list로 변환\n",
    "    list_s = s.split()\n",
    "    \n",
    "    # s 마지막 원소를 제외하고 살펴보기\n",
    "    for n in range(len(list_s) -1):\n",
    "        if list_s[n] != 'Z' and list_s[n+1] != 'Z':\n",
    "            answer.append(list_s[n])\n",
    "            \n",
    "    # s 마지막 원소 살펴보기\n",
    "    if list_s[-1] != 'Z':\n",
    "        answer.append(list_s[-1])\n",
    "    \n",
    "    answer = list(map(int, answer))\n",
    "    \n",
    "    return sum(answer)"
   ]
  },
  {
   "cell_type": "code",
   "execution_count": null,
   "id": "6c36db22",
   "metadata": {},
   "outputs": [],
   "source": []
  }
 ],
 "metadata": {
  "kernelspec": {
   "display_name": "Python 3 (ipykernel)",
   "language": "python",
   "name": "python3"
  },
  "language_info": {
   "codemirror_mode": {
    "name": "ipython",
    "version": 3
   },
   "file_extension": ".py",
   "mimetype": "text/x-python",
   "name": "python",
   "nbconvert_exporter": "python",
   "pygments_lexer": "ipython3",
   "version": "3.9.7"
  }
 },
 "nbformat": 4,
 "nbformat_minor": 5
}
