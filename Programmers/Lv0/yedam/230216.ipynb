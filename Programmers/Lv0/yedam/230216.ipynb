{
 "cells": [
  {
   "cell_type": "markdown",
   "id": "e8112f45",
   "metadata": {},
   "source": [
    "## 세균 증식"
   ]
  },
  {
   "cell_type": "code",
   "execution_count": 6,
   "id": "636e1060",
   "metadata": {},
   "outputs": [],
   "source": [
    "def solution(n, t):\n",
    "    answer = n\n",
    "    for i in range(1, t+1):\n",
    "        answer *= 2\n",
    "    return answer"
   ]
  },
  {
   "cell_type": "markdown",
   "id": "59adc2f2",
   "metadata": {},
   "source": [
    "## 문자열 정렬하기(2)"
   ]
  },
  {
   "cell_type": "code",
   "execution_count": 21,
   "id": "23d2b47c",
   "metadata": {},
   "outputs": [],
   "source": [
    "def solution(my_string):\n",
    "    my_string = list(my_string.lower())\n",
    "    my_string.sort()\n",
    "    return ''.join(my_string)"
   ]
  },
  {
   "cell_type": "markdown",
   "id": "e8295c06",
   "metadata": {},
   "source": [
    "- 다른 사람 풀이"
   ]
  },
  {
   "cell_type": "code",
   "execution_count": 22,
   "id": "736ca21e",
   "metadata": {},
   "outputs": [],
   "source": [
    "def solution(my_string):\n",
    "    return ''.join(sorted(my_string.lower()))"
   ]
  },
  {
   "cell_type": "markdown",
   "id": "2f01b77f",
   "metadata": {},
   "source": [
    "## 7의 개수"
   ]
  },
  {
   "cell_type": "code",
   "execution_count": 49,
   "id": "65a829fa",
   "metadata": {},
   "outputs": [],
   "source": [
    "def solution(array):\n",
    "    array = list(map(str, array))\n",
    "    seven = ''.join(array)\n",
    "    seven = list(seven)\n",
    "    \n",
    "    cnt = 0\n",
    "    for n in seven:\n",
    "        if n == \"7\":\n",
    "            cnt += 1\n",
    "    return cnt"
   ]
  },
  {
   "cell_type": "markdown",
   "id": "db5b1fcd",
   "metadata": {},
   "source": [
    "- 다른 사람 풀이"
   ]
  },
  {
   "cell_type": "code",
   "execution_count": 50,
   "id": "2842b504",
   "metadata": {},
   "outputs": [],
   "source": [
    "def solution(array):\n",
    "    return str(array).count('7')"
   ]
  }
 ],
 "metadata": {
  "kernelspec": {
   "display_name": "Python 3 (ipykernel)",
   "language": "python",
   "name": "python3"
  },
  "language_info": {
   "codemirror_mode": {
    "name": "ipython",
    "version": 3
   },
   "file_extension": ".py",
   "mimetype": "text/x-python",
   "name": "python",
   "nbconvert_exporter": "python",
   "pygments_lexer": "ipython3",
   "version": "3.9.7"
  }
 },
 "nbformat": 4,
 "nbformat_minor": 5
}
