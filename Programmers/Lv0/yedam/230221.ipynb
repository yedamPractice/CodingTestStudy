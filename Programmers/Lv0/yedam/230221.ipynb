{
 "cells": [
  {
   "cell_type": "markdown",
   "id": "f2345b3e",
   "metadata": {},
   "source": [
    "## 다항식 더하기"
   ]
  },
  {
   "cell_type": "markdown",
   "id": "2119bfad",
   "metadata": {},
   "source": [
    "- 제출 답안"
   ]
  },
  {
   "cell_type": "code",
   "execution_count": 2,
   "id": "57fd1f13",
   "metadata": {},
   "outputs": [],
   "source": [
    "def solution(polynomial):\n",
    "    plus_num = []\n",
    "    plus_x = []\n",
    "\n",
    "    temp = polynomial.split(\" \")\n",
    "    \n",
    "    # 일차식이랑 숫자 구분해서 list에 넣기\n",
    "    for num in temp:\n",
    "        if \"x\" in num:\n",
    "            if len(num) == 1:\n",
    "                num = \"1x\"\n",
    "            num = num.strip(\"x\")\n",
    "            plus_x.append(num)\n",
    "\n",
    "        elif num != '+':\n",
    "            plus_num.append(num)\n",
    "            \n",
    "    # 리스트 정수 변환        \n",
    "    plus_x_val = sum(list(map(int, plus_x)))\n",
    "    plus_num_val = sum(list(map(int, plus_num)))\n",
    "    \n",
    "    #일차식 계수 1이면 1 생략\n",
    "    if plus_x_val == 1:\n",
    "        plus_x_val = ''\n",
    "        \n",
    "    result = str(plus_x_val) + \"x + \" + str(plus_num_val)\n",
    "    \n",
    "    # 일차식, 상수항 리스트 길이 0일때 처리\n",
    "    if plus_num_val == 0:\n",
    "        result = str(plus_x_val) + \"x\"\n",
    "    elif plus_x_val == 0:    \n",
    "        result = str(plus_num_val)\n",
    "        \n",
    "    return result\n"
   ]
  },
  {
   "cell_type": "markdown",
   "id": "33e9b1e2",
   "metadata": {},
   "source": [
    "## 숨어있는 숫자의 덧셈(2)"
   ]
  },
  {
   "cell_type": "markdown",
   "id": "a846fbe7",
   "metadata": {},
   "source": [
    "- 제출 코드"
   ]
  },
  {
   "cell_type": "code",
   "execution_count": 3,
   "id": "2cb7fc2d",
   "metadata": {},
   "outputs": [],
   "source": [
    "def solution(my_string):\n",
    "    num = ['0', '1', '2', '3', '4', '5', '6', '7', '8', '9']\n",
    "    \n",
    "    result = 0\n",
    "\n",
    "    for c in my_string:\n",
    "        if c not in num:\n",
    "            my_string = my_string.replace(c, \" \")\n",
    "            \n",
    "    my_string = my_string.split(\" \")\n",
    "    \n",
    "    for n in my_string:\n",
    "        if n != \"\":\n",
    "            result += int(n)\n",
    "            \n",
    "    return result"
   ]
  },
  {
   "cell_type": "markdown",
   "id": "17be19a8",
   "metadata": {},
   "source": [
    "## 안전지대"
   ]
  },
  {
   "cell_type": "code",
   "execution_count": 163,
   "id": "148383a0",
   "metadata": {},
   "outputs": [],
   "source": [
    "import numpy as np\n",
    "\n",
    "# 지뢰 주변 매설하는 함수\n",
    "def general(after, i, j):\n",
    "    # 지뢰 왼쪽 3개 바꾸기\n",
    "    after[i-1][j-1] = 1\n",
    "    after[i-1][j] = 1\n",
    "    after[i-1][j+1] = 1\n",
    "    # 지뢰랑 같은 줄 바꾸기\n",
    "    after[i][j-1] = 1\n",
    "    after[i][j+1] = 1\n",
    "    # 지뢰 오른쪽 3개 바꾸기\n",
    "    after[i+1][j-1] = 1\n",
    "    after[i+1][j] = 1\n",
    "    after[i+1][j+1] = 1\n",
    "    \n",
    "    return after\n",
    "\n",
    "def remove_padding(board_copy_array):\n",
    "    board_copy_array = np.delete(board_copy_array, -1, axis = 0)\n",
    "    board_copy_array = np.delete(board_copy_array, 0, axis = 0)\n",
    "    board_copy_array = np.delete(board_copy_array, -1, axis = 1)\n",
    "    board_copy_array = np.delete(board_copy_array, 0, axis = 1)\n",
    "\n",
    "    return board_copy_array\n",
    "\n",
    "\n",
    "def solution(board):\n",
    "    # ndarray로 만들어서 복사 -> 데이터 따로 관리\n",
    "    board_copy = np.array(board).copy()\n",
    "    \n",
    "    # 패딩 씌우기\n",
    "    board_copy = np.pad(board_copy, pad_width =((1,1), (1,1)), mode ='constant', constant_values=0)\n",
    "    board = np.pad(board, pad_width=((1,1), (1,1)), mode = 'constant', constant_values = 0)\n",
    "    \n",
    "    # 지뢰 개수 확인\n",
    "    mine = 0\n",
    "    for n in board.tolist():\n",
    "        mine += n.count(1)\n",
    "        \n",
    "    size = np.array(board_copy).shape\n",
    "    \n",
    "    try:\n",
    "        for i in range(size[0]):\n",
    "            for j in range(size[1]):\n",
    "                if board[i][j] == 1:\n",
    "                    board_copy = general(board_copy, i, j)\n",
    "                    \n",
    "    # 범위 넘어가면 예외처리\n",
    "    except:\n",
    "        pass\n",
    "    \n",
    "    # 패딩 제거\n",
    "    board_copy = remove_padding(board_copy)\n",
    "    print(board_copy)\n",
    "    # 매설 된 지역 count\n",
    "    after_mine = 0\n",
    "    result_list = board_copy.tolist()\n",
    "\n",
    "    for n in result_list:\n",
    "        after_mine += n.count(1)\n",
    "        \n",
    "    return board_copy.size - after_mine"
   ]
  }
 ],
 "metadata": {
  "kernelspec": {
   "display_name": "Python 3 (ipykernel)",
   "language": "python",
   "name": "python3"
  },
  "language_info": {
   "codemirror_mode": {
    "name": "ipython",
    "version": 3
   },
   "file_extension": ".py",
   "mimetype": "text/x-python",
   "name": "python",
   "nbconvert_exporter": "python",
   "pygments_lexer": "ipython3",
   "version": "3.9.7"
  }
 },
 "nbformat": 4,
 "nbformat_minor": 5
}
