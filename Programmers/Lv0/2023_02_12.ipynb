{
  "nbformat": 4,
  "nbformat_minor": 0,
  "metadata": {
    "colab": {
      "provenance": []
    },
    "kernelspec": {
      "name": "python3",
      "display_name": "Python 3"
    },
    "language_info": {
      "name": "python"
    }
  },
  "cells": [
    {
      "cell_type": "markdown",
      "source": [
        "**DAY7 특정 문자 제거하기**"
      ],
      "metadata": {
        "id": "QD7O9O343J4A"
      }
    },
    {
      "cell_type": "code",
      "source": [
        "def solution(my_string, letter):\n",
        "    answer = ''\n",
        "    copy = my_string\n",
        "    for i in copy:\n",
        "        if i == letter:\n",
        "            my_string = my_string.replace(i, '')\n",
        "    return my_string"
      ],
      "metadata": {
        "id": "czm0ysgQCEW0"
      },
      "execution_count": null,
      "outputs": []
    },
    {
      "cell_type": "markdown",
      "source": [
        "**DAY7 각도기**"
      ],
      "metadata": {
        "id": "2KrxRJsh3V3s"
      }
    },
    {
      "cell_type": "code",
      "source": [
        "def solution(angle):\n",
        "    if angle < 90:\n",
        "        answer = 1\n",
        "    elif angle == 90:\n",
        "        answer = 2\n",
        "    elif angle < 180:\n",
        "        answer = 3\n",
        "    else:\n",
        "        answer = 4\n",
        "    return answer"
      ],
      "metadata": {
        "id": "f4pdWVjOCH8-"
      },
      "execution_count": null,
      "outputs": []
    },
    {
      "cell_type": "markdown",
      "source": [
        "**DAY7 양꼬치**"
      ],
      "metadata": {
        "id": "IjxJ4hFs3lkt"
      }
    },
    {
      "cell_type": "code",
      "source": [
        "def solution(n, k):\n",
        "    service = n // 10\n",
        "    answer = n * 12000 + (k-service) * 2000\n",
        "    return answer"
      ],
      "metadata": {
        "id": "cwU1Oz6kCKpH"
      },
      "execution_count": null,
      "outputs": []
    },
    {
      "cell_type": "markdown",
      "source": [
        "**DAY7 짝수의 합**"
      ],
      "metadata": {
        "id": "K-73u6c_3j1H"
      }
    },
    {
      "cell_type": "code",
      "source": [
        "def solution(n):\n",
        "    answer = 0\n",
        "    for i in range(1, n+1):\n",
        "        if i % 2 == 0:\n",
        "            answer += i\n",
        "    return answer"
      ],
      "metadata": {
        "id": "AohdvpoPCNDl"
      },
      "execution_count": null,
      "outputs": []
    },
    {
      "cell_type": "markdown",
      "source": [
        "**DAY15 한 번만 등장한 문자**"
      ],
      "metadata": {
        "id": "4Ap78_3FRTCB"
      }
    },
    {
      "cell_type": "code",
      "source": [
        "def solution(s):\n",
        "    answer = ''\n",
        "    scountlist= []\n",
        "    answerlist= []\n",
        "    for i in s:\n",
        "        scount = s.count(i)\n",
        "        scountlist.append(scount)\n",
        "    index = [j for j in range(len(scountlist)) if scountlist[j] == 1]\n",
        "    for k in index:\n",
        "        answerlist.append(s[k])\n",
        "    answer = ''.join(sorted(answerlist))\n",
        "    return answer\n",
        "\n",
        "# 다른 사람 풀이\n",
        "def solution(s):\n",
        "    answer = \"\".join(sorted([ ch for ch in s if s.count(ch) == 1]))\n",
        "    # answerlist = [ ch for ch in s if s.count(ch) == 1]\n",
        "    return answer"
      ],
      "metadata": {
        "id": "bXMSLboHGkQm"
      },
      "execution_count": null,
      "outputs": []
    },
    {
      "cell_type": "markdown",
      "source": [
        "**DAY15 약수 구하기**"
      ],
      "metadata": {
        "id": "1951gll2RYsx"
      }
    },
    {
      "cell_type": "code",
      "source": [
        "def solution(n):\n",
        "    answer = []\n",
        "    for i in range(1, n+1):\n",
        "        if n % i == 0:\n",
        "            answer.append(i)\n",
        "    return answer"
      ],
      "metadata": {
        "id": "LzQ8Hm0KCTmL"
      },
      "execution_count": null,
      "outputs": []
    },
    {
      "cell_type": "markdown",
      "source": [
        "**DAY16 편지**"
      ],
      "metadata": {
        "id": "R4Na-A52REZD"
      }
    },
    {
      "cell_type": "code",
      "source": [
        "def solution(message):\n",
        "    answer = len(message)*2\n",
        "    return answer"
      ],
      "metadata": {
        "id": "TvYjyolDG4Rc"
      },
      "execution_count": null,
      "outputs": []
    }
  ]
}