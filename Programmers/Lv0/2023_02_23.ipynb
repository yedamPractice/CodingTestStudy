{
  "nbformat": 4,
  "nbformat_minor": 0,
  "metadata": {
    "colab": {
      "provenance": []
    },
    "kernelspec": {
      "name": "python3",
      "display_name": "Python 3"
    },
    "language_info": {
      "name": "python"
    }
  },
  "cells": [
    {
      "cell_type": "markdown",
      "source": [
        "**DAY22 평행**"
      ],
      "metadata": {
        "id": "i0CCn94w2rPq"
      }
    },
    {
      "cell_type": "code",
      "source": [
        "def solution(dots):\n",
        "    answer = 0\n",
        "    x1 = dots[0][0]\n",
        "    y1 = dots[0][1]\n",
        "    x2 = dots[1][0]\n",
        "    y2 = dots[1][1]\n",
        "    x3 = dots[2][0]\n",
        "    y3 = dots[2][1]\n",
        "    x4 = dots[3][0]\n",
        "    y4 = dots[3][1]\n",
        "    \n",
        "    # [[x1, y1], [x2, y2], [x3, y3], [x4, y4]]=dots\n",
        "    \n",
        "    test1 = ((x3-x4)/(y3-y4) == (x1-x2)/(y1-y2))\n",
        "    test2 = ((x2-x4)/(y2-y4) == (x1-x3)/(y1-y3))\n",
        "    test3 = ((x2-x3)/(y2-y3) == (x1-x4)/(y1-y4))\n",
        "    if test1 or test2 or test3:\n",
        "        answer = 1\n",
        "    return answer"
      ],
      "metadata": {
        "id": "hL1Am40mkCN2"
      },
      "execution_count": null,
      "outputs": []
    },
    {
      "cell_type": "code",
      "source": [
        "def solution(dots):\n",
        "    answer = 0\n",
        "\n",
        "    if gradient(dots[0],dots[1]) == gradient(dots[2],dots[3]):\n",
        "        return 1\n",
        "    if gradient(dots[0],dots[2]) == gradient(dots[1],dots[3]):\n",
        "        return 1\n",
        "    if gradient(dots[0],dots[3]) == gradient(dots[1],dots[2]):\n",
        "        return 1\n",
        "\n",
        "    return answer\n",
        "\n",
        "def gradient(point_1, point_2):\n",
        "\n",
        "    x1,y1 = point_1\n",
        "    x2,y2 = point_2\n",
        "    \n",
        "    # point_1과 point_2의 x좌표가 같다면 \n",
        "    if x1 == x2:\n",
        "        return 999\n",
        "    \n",
        "    return (y2-y1)/(x2-x1) # 기울기 리턴"
      ],
      "metadata": {
        "id": "mPItPhhokDlw"
      },
      "execution_count": null,
      "outputs": []
    },
    {
      "cell_type": "markdown",
      "source": [
        "**DAY22 겹치는 선분의 길이**"
      ],
      "metadata": {
        "id": "zjBaMTUD2mv2"
      }
    },
    {
      "cell_type": "code",
      "source": [
        "# 이건 내가 못품\n",
        "# 힌트 : https://www.youtube.com/watch?v=aLYKp3OTh2Q\n",
        "import numpy as np\n",
        "\n",
        "def solution(lines):\n",
        "    arr = np.zeros(200, dtype='i')\n",
        "    answer = 0\n",
        "        \n",
        "    # lines정보를 arr배열에 적용\n",
        "    for i in range(3):\n",
        "        j = lines[i][0] + 100\n",
        "        while j < lines[i][1] + 100:\n",
        "            arr[j] = arr[j] + 1\n",
        "            j += 1  \n",
        "            \n",
        "    #arr 배열에서 겹친 부분 세기\n",
        "    for k in range(200):\n",
        "        if arr[k] > 1:\n",
        "            answer += 1\n",
        "        \n",
        "    return answer"
      ],
      "metadata": {
        "id": "NyiSfETNlsEv"
      },
      "execution_count": null,
      "outputs": []
    },
    {
      "cell_type": "markdown",
      "source": [
        "**DAY22 유한소수 판별하기**"
      ],
      "metadata": {
        "id": "cm7_IbVj2kAz"
      }
    },
    {
      "cell_type": "code",
      "source": [
        "def solution(a, b):\n",
        "    answer = 1\n",
        "    alist = []\n",
        "    blist = []\n",
        "    gilist = []\n",
        "    elementmax = 1\n",
        "    \n",
        "    for i in range(2, a+1):\n",
        "        if a % i == 0:\n",
        "            alist.append(i)\n",
        "    for i in range(2, b+1):\n",
        "        if b % i == 0:\n",
        "            blist.append(i)\n",
        "            \n",
        "    element = list(set(alist) & set(blist))\n",
        "    # element = list(set(alist).intersection(blist))\n",
        "    \n",
        "    # 최대공약수 찾기\n",
        "    if len(element) >= 1:\n",
        "        elementmax = max(element)\n",
        "    \n",
        "    # 기약분수 만들기\n",
        "    a //= elementmax\n",
        "    b //= elementmax\n",
        "    \n",
        "    num = 2\n",
        "    while num <= b:\n",
        "        if b % num == 0:\n",
        "            gilist.append(num)\n",
        "            b //= num\n",
        "        else:\n",
        "            num += 1 \n",
        "    gilist = list(set(gilist))\n",
        "    \n",
        "    for i in gilist:\n",
        "        if i != 2 and i != 5:\n",
        "            answer = 2\n",
        "            break\n",
        "            \n",
        "    return answer"
      ],
      "metadata": {
        "id": "ZgLULUDFfR9k"
      },
      "execution_count": null,
      "outputs": []
    },
    {
      "cell_type": "code",
      "source": [
        "from math import gcd\n",
        "\n",
        "def solution(a, b):\n",
        "    b //= gcd(a,b) # 최대 공약수\n",
        "    \n",
        "    while b%2==0:\n",
        "        b//=2\n",
        "    while b%5==0:\n",
        "        b//=5\n",
        "    return 1 if b==1 else 2"
      ],
      "metadata": {
        "id": "WH6SzlFhfWAM"
      },
      "execution_count": null,
      "outputs": []
    }
  ]
}