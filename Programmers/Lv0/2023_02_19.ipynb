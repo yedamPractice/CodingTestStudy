{
  "nbformat": 4,
  "nbformat_minor": 0,
  "metadata": {
    "colab": {
      "provenance": []
    },
    "kernelspec": {
      "name": "python3",
      "display_name": "Python 3"
    },
    "language_info": {
      "name": "python"
    }
  },
  "cells": [
    {
      "cell_type": "markdown",
      "source": [
        "**DAY19 잘라서 배열로 저장하기**"
      ],
      "metadata": {
        "id": "i0CCn94w2rPq"
      }
    },
    {
      "cell_type": "code",
      "source": [
        "import math\n",
        "def solution(my_str, n):\n",
        "    answer = []\n",
        "    loop = math.ceil(len(my_str) / n)\n",
        "    for i in range(loop):\n",
        "        if len(my_str) >= n:\n",
        "            answer.append(my_str[0:n])\n",
        "        else:\n",
        "            answer.append(my_str[0:])\n",
        "        my_str = my_str[n:]\n",
        "    return answer"
      ],
      "metadata": {
        "id": "Ki5Vi3W7A1Mb"
      },
      "execution_count": null,
      "outputs": []
    },
    {
      "cell_type": "code",
      "source": [
        "# 다른 사람 풀이\n",
        "def solution(my_str, n):\n",
        "    return[my_str[i: i + n] for i in range(0, len(my_str), n)]"
      ],
      "metadata": {
        "id": "vftYEl3dA16J"
      },
      "execution_count": null,
      "outputs": []
    },
    {
      "cell_type": "markdown",
      "source": [
        "**DAY19 중복된 숫자 개수**"
      ],
      "metadata": {
        "id": "zjBaMTUD2mv2"
      }
    },
    {
      "cell_type": "code",
      "source": [
        "def solution(array, n):\n",
        "    answer = 0\n",
        "    \n",
        "    for i in array:\n",
        "        if i == n:\n",
        "            answer += 1\n",
        "    return answer"
      ],
      "metadata": {
        "id": "ezt1le2Y21Vm"
      },
      "execution_count": null,
      "outputs": []
    },
    {
      "cell_type": "markdown",
      "source": [
        "**DAY19 머쓱이보다 키 큰 사람**"
      ],
      "metadata": {
        "id": "cm7_IbVj2kAz"
      }
    },
    {
      "cell_type": "code",
      "source": [
        "def solution(array, height):\n",
        "    answer = 0\n",
        "    array = sorted(array)\n",
        "    \n",
        "    for i in range(len(array)):\n",
        "        if height < array[i]:\n",
        "            answer = len(array) - i\n",
        "            break\n",
        "    return answer"
      ],
      "metadata": {
        "id": "s9HqKGQu2giB"
      },
      "execution_count": null,
      "outputs": []
    }
  ]
}