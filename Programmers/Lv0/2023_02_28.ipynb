{
  "nbformat": 4,
  "nbformat_minor": 0,
  "metadata": {
    "colab": {
      "provenance": []
    },
    "kernelspec": {
      "name": "python3",
      "display_name": "Python 3"
    },
    "language_info": {
      "name": "python"
    }
  },
  "cells": [
    {
      "cell_type": "markdown",
      "source": [
        "**DAY24 A로 B 만들기**"
      ],
      "metadata": {
        "id": "4Ap78_3FRTCB"
      }
    },
    {
      "cell_type": "code",
      "source": [
        "def solution(before, after):\n",
        "    answer = 0\n",
        "    before = ''.join(sorted(before))\n",
        "    after = ''.join(sorted(after))\n",
        "    if before == after:\n",
        "        answer = 1\n",
        "    else:\n",
        "        answer = 0\n",
        "    return answer"
      ],
      "metadata": {
        "id": "U1Mu-7dbkHtc"
      },
      "execution_count": null,
      "outputs": []
    },
    {
      "cell_type": "markdown",
      "source": [
        "**DAY24 k의 개수**"
      ],
      "metadata": {
        "id": "R4Na-A52REZD"
      }
    },
    {
      "cell_type": "code",
      "source": [
        "def solution(i, j, k):\n",
        "    answer = 0\n",
        "    num = ''\n",
        "    for i in range(i, j+1):\n",
        "        num += str(i)\n",
        "    answer = num.count(str(k))      \n",
        "    return answer"
      ],
      "metadata": {
        "id": "3lCoEI0SkLQx"
      },
      "execution_count": null,
      "outputs": []
    },
    {
      "cell_type": "markdown",
      "source": [
        "**DAY25 문자열 밀기**"
      ],
      "metadata": {
        "id": "1951gll2RYsx"
      }
    },
    {
      "cell_type": "code",
      "source": [
        "def solution(A, B):\n",
        "    answer = -1 # 될 수 없는 경우 default\n",
        "    \n",
        "            \n",
        "    for i in range(100):\n",
        "        if A == B:\n",
        "            answer = 0\n",
        "            break\n",
        "            \n",
        "        A = A[-1] + A[:-1] \n",
        "        print(A)\n",
        "        if A == B:\n",
        "            answer = i + 1\n",
        "            break       \n",
        "        \n",
        "    return answer\n",
        "\n",
        "\n",
        "# solution = lambda a, b : (b*2).find(a)"
      ],
      "metadata": {
        "id": "ZkunuSWQkUze"
      },
      "execution_count": null,
      "outputs": []
    }
  ]
}