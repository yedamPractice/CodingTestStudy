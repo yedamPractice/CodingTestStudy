{
  "nbformat": 4,
  "nbformat_minor": 0,
  "metadata": {
    "colab": {
      "provenance": []
    },
    "kernelspec": {
      "name": "python3",
      "display_name": "Python 3"
    },
    "language_info": {
      "name": "python"
    }
  },
  "cells": [
    {
      "cell_type": "markdown",
      "source": [
        "**DAY1 두 수의 합**"
      ],
      "metadata": {
        "id": "QD7O9O343J4A"
      }
    },
    {
      "cell_type": "code",
      "source": [
        "def solution(num1, num2):\n",
        "    answer = num1 + num2\n",
        "    return answer"
      ],
      "metadata": {
        "id": "lZ3eZyCX3PT7"
      },
      "execution_count": 1,
      "outputs": []
    },
    {
      "cell_type": "markdown",
      "source": [
        "**DAY1 두 수의 차**"
      ],
      "metadata": {
        "id": "2KrxRJsh3V3s"
      }
    },
    {
      "cell_type": "code",
      "source": [
        "def solution(num1, num2):\n",
        "    answer = num1 - num2\n",
        "    return answer"
      ],
      "metadata": {
        "id": "ezCnrB373pqn"
      },
      "execution_count": null,
      "outputs": []
    },
    {
      "cell_type": "markdown",
      "source": [
        "**DAY1 두 수의 곱**"
      ],
      "metadata": {
        "id": "K-73u6c_3j1H"
      }
    },
    {
      "cell_type": "code",
      "source": [
        "def solution(num1, num2):\n",
        "    answer = num1 * num2\n",
        "    return answer"
      ],
      "metadata": {
        "id": "169IvrNf3qfN"
      },
      "execution_count": null,
      "outputs": []
    },
    {
      "cell_type": "markdown",
      "source": [
        "**DAY1 몫 구하기**"
      ],
      "metadata": {
        "id": "IjxJ4hFs3lkt"
      }
    },
    {
      "cell_type": "code",
      "source": [
        "def solution(num1, num2):\n",
        "    answer = num1 // num2\n",
        "    return answer"
      ],
      "metadata": {
        "id": "FKmt9vCQ3s_x"
      },
      "execution_count": null,
      "outputs": []
    },
    {
      "cell_type": "markdown",
      "source": [
        "**DAY11 주사위의 개수**"
      ],
      "metadata": {
        "id": "LWHJjl7i31S-"
      }
    },
    {
      "cell_type": "code",
      "source": [
        "def solution(box, n):\n",
        "    width = box[0] // n\n",
        "    depth = box[1] // n\n",
        "    height = box[2] // n\n",
        "    answer = width * depth * height\n",
        "    return answer"
      ],
      "metadata": {
        "id": "01Mv-acJ4IeF"
      },
      "execution_count": null,
      "outputs": []
    },
    {
      "cell_type": "markdown",
      "source": [
        "**DAY11 합성수 찾기**"
      ],
      "metadata": {
        "id": "rMj0REIB4CKl"
      }
    },
    {
      "cell_type": "code",
      "source": [
        "def solution(n):\n",
        "    # 본인과 1을 제외한 나머지 약수가 있으면 count 하는걸로 생각했는데\n",
        "    # 이렇게 접근하면 못푸는 듯\n",
        "    final = 0\n",
        "    for num in range(1,n+1):\n",
        "        count = 0\n",
        "        for i in range(1, num+1): \n",
        "            if num % i == 0:\n",
        "                count += 1\n",
        "        if count >= 3:\n",
        "            final += 1\n",
        "\n",
        "    answer = final\n",
        "    return answer"
      ],
      "metadata": {
        "id": "Yy6C8VQL4Z6h"
      },
      "execution_count": null,
      "outputs": []
    },
    {
      "cell_type": "markdown",
      "source": [
        "**DAY11 최댓값 만들기(1)**"
      ],
      "metadata": {
        "id": "Xd-XQUTO4F1U"
      }
    },
    {
      "cell_type": "code",
      "source": [
        "def solution(numbers):\n",
        "    numbers = sorted(numbers)\n",
        "    answer = numbers[-1] * numbers[-2]\n",
        "    return answer"
      ],
      "metadata": {
        "id": "NanMRqw24O-y"
      },
      "execution_count": null,
      "outputs": []
    }
  ]
}