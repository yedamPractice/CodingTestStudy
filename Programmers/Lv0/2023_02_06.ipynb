{
  "nbformat": 4,
  "nbformat_minor": 0,
  "metadata": {
    "colab": {
      "provenance": []
    },
    "kernelspec": {
      "name": "python3",
      "display_name": "Python 3"
    },
    "language_info": {
      "name": "python"
    }
  },
  "cells": [
    {
      "cell_type": "markdown",
      "source": [
        "**DAY3 나머지 구하기**"
      ],
      "metadata": {
        "id": "2KrxRJsh3V3s"
      }
    },
    {
      "cell_type": "code",
      "source": [
        "def solution(num1, num2):\n",
        "    answer = num1 % num2\n",
        "    return answer"
      ],
      "metadata": {
        "id": "ezCnrB373pqn"
      },
      "execution_count": null,
      "outputs": []
    },
    {
      "cell_type": "markdown",
      "source": [
        "**DAY3 중앙값 구하기**"
      ],
      "metadata": {
        "id": "K-73u6c_3j1H"
      }
    },
    {
      "cell_type": "code",
      "source": [
        "import numpy as np\n",
        "\n",
        "def solution(array):\n",
        "    array = sorted(array)\n",
        "    answer = np.median(array)\n",
        "    return answer"
      ],
      "metadata": {
        "id": "169IvrNf3qfN"
      },
      "execution_count": null,
      "outputs": []
    },
    {
      "cell_type": "markdown",
      "source": [
        "**DAY3 최빈값 구하기**"
      ],
      "metadata": {
        "id": "IjxJ4hFs3lkt"
      }
    },
    {
      "cell_type": "code",
      "source": [
        "def solution(array):\n",
        "    count = 0\n",
        "    clist = []\n",
        "    array = sorted(array) # 오름차순 정렬\n",
        "    maxa = array[0] # 입력된 array에서 최대 값\n",
        "    \n",
        "    # array에서 최빈값을 구하기 위해서 count활용\n",
        "    for i in array:\n",
        "        if maxa < i:\n",
        "            maxa = i\n",
        "            count = 0\n",
        "        count += 1\n",
        "        clist.append(count)\n",
        "    \n",
        "    # 최빈값이 위치한 자리\n",
        "    big = clist.index(max(clist))\n",
        "    \n",
        "    icount = 0\n",
        "    \n",
        "    # 최빈값이 2개 이상인지 확인하기 위해 icount 사용\n",
        "    for idx, v in enumerate(clist):\n",
        "        if v == max(clist):\n",
        "            icount += 1\n",
        "    \n",
        "    # icount >= 2의 의미는 최빈값이 2개 이상이라는 의미\n",
        "    if icount >= 2:\n",
        "        answer = -1\n",
        "    else:\n",
        "        answer = array[big]\n",
        "        \n",
        "    return answer"
      ],
      "metadata": {
        "id": "BU8m0aE_X2Zm"
      },
      "execution_count": null,
      "outputs": []
    },
    {
      "cell_type": "markdown",
      "source": [
        "**DAY3 짝수는 싫어요**"
      ],
      "metadata": {
        "id": "QD7O9O343J4A"
      }
    },
    {
      "cell_type": "code",
      "source": [
        "def solution(n):\n",
        "    n_list = [x for x in range(1, n+1)]\n",
        "    answer=[]\n",
        "    for i in n_list:\n",
        "        if i % 2 == 1:\n",
        "            answer.append(i)\n",
        "    return answer"
      ],
      "metadata": {
        "id": "lZ3eZyCX3PT7"
      },
      "execution_count": null,
      "outputs": []
    },
    {
      "cell_type": "markdown",
      "source": [
        "**DAY12 숨어있는 숫자의 덧셈(1)**"
      ],
      "metadata": {
        "id": "R4Na-A52REZD"
      }
    },
    {
      "cell_type": "code",
      "source": [
        "def solution(my_string):\n",
        "    answer = 0\n",
        "    numbers = ['0', '1', '2', '3', '4', '5', '6', '7', '8', '9']\n",
        "    for i in my_string:\n",
        "        if i in numbers:\n",
        "            answer += int(i)\n",
        "    return answer"
      ],
      "metadata": {
        "id": "xu2UOGnhRON1"
      },
      "execution_count": null,
      "outputs": []
    },
    {
      "cell_type": "markdown",
      "source": [
        "**DAY12 소인수분해**"
      ],
      "metadata": {
        "id": "4Ap78_3FRTCB"
      }
    },
    {
      "cell_type": "code",
      "source": [
        "def solution(n):\n",
        "    answer = []\n",
        "    for i in range(2, n+1):\n",
        "        if n % i == 0:\n",
        "            answer.append(i)\n",
        "            for j in answer:\n",
        "                if (i != j) and (i % j == 0):\n",
        "                    answer.remove(i)\n",
        "                    break\n",
        "    return answer"
      ],
      "metadata": {
        "id": "wS4ELUpIRcfm"
      },
      "execution_count": null,
      "outputs": []
    },
    {
      "cell_type": "markdown",
      "source": [
        "**DAY12 컨트롤 제트**"
      ],
      "metadata": {
        "id": "1951gll2RYsx"
      }
    },
    {
      "cell_type": "code",
      "source": [
        "def solution(s):\n",
        "    sum = 0\n",
        "    answer = s.split(' ')\n",
        "    for i in range(len(answer)):\n",
        "        if answer[i] == \"Z\":\n",
        "            sum -= int(answer[i-1])\n",
        "        else:\n",
        "            sum += int(answer[i])\n",
        "    return sum"
      ],
      "metadata": {
        "id": "nOtS9S0KR0xZ"
      },
      "execution_count": null,
      "outputs": []
    }
  ]
}