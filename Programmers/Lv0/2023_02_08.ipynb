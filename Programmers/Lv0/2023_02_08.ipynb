{
  "nbformat": 4,
  "nbformat_minor": 0,
  "metadata": {
    "colab": {
      "provenance": []
    },
    "kernelspec": {
      "name": "python3",
      "display_name": "Python 3"
    },
    "language_info": {
      "name": "python"
    }
  },
  "cells": [
    {
      "cell_type": "markdown",
      "source": [
        "**DAY5 옷가게 할인받기**"
      ],
      "metadata": {
        "id": "QD7O9O343J4A"
      }
    },
    {
      "cell_type": "code",
      "source": [
        "def solution(price):\n",
        "    answer = 0\n",
        "    if price >= 500000:\n",
        "        answer = int(price * 0.8)\n",
        "    elif price >= 300000 and price < 500000:\n",
        "        answer = int(price * 0.9)\n",
        "    elif price >= 100000 and price < 300000:\n",
        "        answer = int(price * 0.95)\n",
        "    else:\n",
        "        answer = int(price)\n",
        "    return answer"
      ],
      "metadata": {
        "id": "o5OA1Ta3NXLK"
      },
      "execution_count": null,
      "outputs": []
    },
    {
      "cell_type": "markdown",
      "source": [
        "**DAY5 아이스 아메리카노**"
      ],
      "metadata": {
        "id": "2KrxRJsh3V3s"
      }
    },
    {
      "cell_type": "code",
      "source": [
        "def solution(money):\n",
        "    iceamericano = money // 5500\n",
        "    charge = money % 5500\n",
        "    answer = [iceamericano, charge]\n",
        "    return answer"
      ],
      "metadata": {
        "id": "Tjb6LMlaH7c2"
      },
      "execution_count": null,
      "outputs": []
    },
    {
      "cell_type": "markdown",
      "source": [
        "**DAY5 나이 출력**"
      ],
      "metadata": {
        "id": "K-73u6c_3j1H"
      }
    },
    {
      "cell_type": "code",
      "source": [
        "def solution(age):\n",
        "    answer = 2022 - age + 1\n",
        "    return answer"
      ],
      "metadata": {
        "id": "mkysXYezH-jw"
      },
      "execution_count": null,
      "outputs": []
    },
    {
      "cell_type": "markdown",
      "source": [
        "**DAY5 배열 뒤집기**"
      ],
      "metadata": {
        "id": "IjxJ4hFs3lkt"
      }
    },
    {
      "cell_type": "code",
      "source": [
        "def solution(num_list):\n",
        "    answer = list(reversed(num_list))\n",
        "    return answer"
      ],
      "metadata": {
        "id": "XVpk-J2RIBzK"
      },
      "execution_count": null,
      "outputs": []
    },
    {
      "cell_type": "markdown",
      "source": [
        "**DAY14 가까운 수**"
      ],
      "metadata": {
        "id": "R4Na-A52REZD"
      }
    },
    {
      "cell_type": "code",
      "source": [
        "def solution(array, n):\n",
        "    answer = 0\n",
        "    array = sorted(array)\n",
        "    new_array = []\n",
        "    \n",
        "    # n과의 거리 파악을 위해서 new_array에 거리 append\n",
        "    for i in array:\n",
        "        new_array.append(abs(n - i))\n",
        "    \n",
        "    for i in range(len(new_array)):\n",
        "        if new_array[i] == min(new_array):\n",
        "            answer = array[i]\n",
        "            break\n",
        "    return answer"
      ],
      "metadata": {
        "id": "2boqzqEiH3WA"
      },
      "execution_count": null,
      "outputs": []
    },
    {
      "cell_type": "markdown",
      "source": [
        "**DAY14 369게임**"
      ],
      "metadata": {
        "id": "4Ap78_3FRTCB"
      }
    },
    {
      "cell_type": "code",
      "source": [
        "def solution(order):\n",
        "    answer = 0\n",
        "    str_order = str(order)\n",
        "    \n",
        "    for i in str_order:\n",
        "        if i in ['3', '6', '9']:\n",
        "            answer += 1\n",
        "    return answer"
      ],
      "metadata": {
        "id": "0kXjxop8Op0R"
      },
      "execution_count": null,
      "outputs": []
    },
    {
      "cell_type": "code",
      "source": [
        "def solution(order):\n",
        "    answer = 0\n",
        "    str_order = str(order)\n",
        "    \n",
        "    for i in str_order:\n",
        "        if i == '3' or i == '6' or i == '9':\n",
        "            answer += 1\n",
        "    return answer"
      ],
      "metadata": {
        "id": "EbqYsPX0Oypz"
      },
      "execution_count": null,
      "outputs": []
    },
    {
      "cell_type": "markdown",
      "source": [
        "**DAY14 암호 해독**"
      ],
      "metadata": {
        "id": "1951gll2RYsx"
      }
    },
    {
      "cell_type": "code",
      "source": [
        "def solution(cipher, code):\n",
        "    answer = ''    \n",
        "    for i in range(1, len(cipher)+1):\n",
        "        if i % code == 0:\n",
        "            answer += cipher[i-1]\n",
        "    return answer"
      ],
      "metadata": {
        "id": "jiQl4gOfCGxI"
      },
      "execution_count": null,
      "outputs": []
    }
  ]
}