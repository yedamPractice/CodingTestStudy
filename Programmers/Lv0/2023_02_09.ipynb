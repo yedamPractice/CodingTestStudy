{
  "nbformat": 4,
  "nbformat_minor": 0,
  "metadata": {
    "colab": {
      "provenance": []
    },
    "kernelspec": {
      "name": "python3",
      "display_name": "Python 3"
    },
    "language_info": {
      "name": "python"
    }
  },
  "cells": [
    {
      "cell_type": "markdown",
      "source": [
        "**DAY6 문자열 뒤집기**"
      ],
      "metadata": {
        "id": "QD7O9O343J4A"
      }
    },
    {
      "cell_type": "code",
      "source": [
        "def solution(my_string):\n",
        "    answer = ''\n",
        "    for i in range(len(my_string)):\n",
        "        answer = answer + my_string[len(my_string)-1-i]\n",
        "    return answer"
      ],
      "metadata": {
        "id": "CN3J8qCUae3C"
      },
      "execution_count": null,
      "outputs": []
    },
    {
      "cell_type": "markdown",
      "source": [
        "**DAY6 짝수 홀수 개수**"
      ],
      "metadata": {
        "id": "2KrxRJsh3V3s"
      }
    },
    {
      "cell_type": "code",
      "source": [
        "def solution(num_list):\n",
        "    even = 0\n",
        "    odd = 0\n",
        "    \n",
        "    for i in num_list:\n",
        "        if i % 2 == 0:\n",
        "            even += 1\n",
        "        else:\n",
        "            odd += 1\n",
        "    answer = [even, odd]\n",
        "    return answer"
      ],
      "metadata": {
        "id": "_ZULWM9rabRf"
      },
      "execution_count": null,
      "outputs": []
    },
    {
      "cell_type": "markdown",
      "source": [
        "**DAY6 문자 반복 출력하기**"
      ],
      "metadata": {
        "id": "K-73u6c_3j1H"
      }
    },
    {
      "cell_type": "code",
      "source": [
        "def solution(my_string, n):\n",
        "    answer = ''\n",
        "    for i in my_string:\n",
        "        answer += i * n\n",
        "    return answer"
      ],
      "metadata": {
        "id": "o91KFPitaipY"
      },
      "execution_count": null,
      "outputs": []
    },
    {
      "cell_type": "markdown",
      "source": [
        "**DAY6 직각삼각형 출력하기**"
      ],
      "metadata": {
        "id": "IjxJ4hFs3lkt"
      }
    },
    {
      "cell_type": "code",
      "source": [
        "n = int(input())\n",
        "\n",
        "for i in range(1, n+1):\n",
        "    print(\"*\"*i)"
      ],
      "metadata": {
        "id": "ZlL4ACrwa67r"
      },
      "execution_count": null,
      "outputs": []
    },
    {
      "cell_type": "markdown",
      "source": [
        "**DAY14 대문자와 소문자**"
      ],
      "metadata": {
        "id": "R4Na-A52REZD"
      }
    },
    {
      "cell_type": "code",
      "source": [
        "def solution(my_string):\n",
        "    answer = ''\n",
        "    for i in my_string:\n",
        "        if i.isupper():\n",
        "            i = i.lower()\n",
        "        elif i.islower():\n",
        "            i = i.upper()\n",
        "        answer += i\n",
        "    return answer"
      ],
      "metadata": {
        "id": "ERl6eQwOoOIw"
      },
      "execution_count": null,
      "outputs": []
    },
    {
      "cell_type": "markdown",
      "source": [
        "**DAY15 영어가 싫어요**"
      ],
      "metadata": {
        "id": "4Ap78_3FRTCB"
      }
    },
    {
      "cell_type": "code",
      "source": [
        "def solution(numbers):\n",
        "    answer = 0\n",
        "    nums = ['zero', 'one', 'two', 'three', 'four', 'five', 'six', 'seven', 'eight', 'nine']\n",
        "    for index, num in enumerate(nums):\n",
        "        numbers = numbers.replace(num, str(index))\n",
        "    answer = int(numbers)\n",
        "    return answer"
      ],
      "metadata": {
        "id": "81kp1zTu8c_V"
      },
      "execution_count": null,
      "outputs": []
    },
    {
      "cell_type": "markdown",
      "source": [
        "**DAY15 인덱스 바꾸기**"
      ],
      "metadata": {
        "id": "1951gll2RYsx"
      }
    },
    {
      "cell_type": "code",
      "source": [
        "def solution(my_string, num1, num2):\n",
        "    answer = ''\n",
        "    my_string = list(my_string)\n",
        "    my_string[num1], my_string[num2] = my_string[num2], my_string[num1]   \n",
        "    answer = ''.join(my_string)\n",
        "    return answer"
      ],
      "metadata": {
        "id": "TTs_X6kiuzul"
      },
      "execution_count": null,
      "outputs": []
    }
  ]
}