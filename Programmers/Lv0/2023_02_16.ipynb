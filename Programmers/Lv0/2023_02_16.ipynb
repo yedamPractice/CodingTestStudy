{
  "nbformat": 4,
  "nbformat_minor": 0,
  "metadata": {
    "colab": {
      "provenance": []
    },
    "kernelspec": {
      "name": "python3",
      "display_name": "Python 3"
    },
    "language_info": {
      "name": "python"
    }
  },
  "cells": [
    {
      "cell_type": "markdown",
      "source": [
        "**DAY18 세균 증식**"
      ],
      "metadata": {
        "id": "4Ap78_3FRTCB"
      }
    },
    {
      "cell_type": "code",
      "source": [
        "def solution(n, t):\n",
        "    answer = n * (2 ** t)\n",
        "    return answer"
      ],
      "metadata": {
        "id": "9ge1PeqJ294b"
      },
      "execution_count": null,
      "outputs": []
    },
    {
      "cell_type": "markdown",
      "source": [
        "**DAY18 문자열 정렬하기(2)**"
      ],
      "metadata": {
        "id": "R4Na-A52REZD"
      }
    },
    {
      "cell_type": "code",
      "source": [
        "def solution(my_string):\n",
        "    answer = my_string.lower()\n",
        "    answer = ''.join(sorted(answer))\n",
        "    return answer"
      ],
      "metadata": {
        "id": "VMVhLVMK3C1w"
      },
      "execution_count": null,
      "outputs": []
    },
    {
      "cell_type": "markdown",
      "source": [
        "**DAY19 7의 개수**"
      ],
      "metadata": {
        "id": "1951gll2RYsx"
      }
    },
    {
      "cell_type": "code",
      "source": [
        "def solution(array):\n",
        "    answer = 0\n",
        "    strarray = ''\n",
        "    for i in range(len(array)):\n",
        "        strarray += str(array[i])\n",
        "    answer = strarray.count('7')\n",
        "    return answer"
      ],
      "metadata": {
        "id": "i9_VhcmG45OD"
      },
      "execution_count": null,
      "outputs": []
    },
    {
      "cell_type": "code",
      "source": [
        "# 다른 사람 풀이\n",
        "def solution(array):\n",
        "    return str(array).count('7')"
      ],
      "metadata": {
        "id": "H4D5yLbA5TaS"
      },
      "execution_count": null,
      "outputs": []
    }
  ]
}