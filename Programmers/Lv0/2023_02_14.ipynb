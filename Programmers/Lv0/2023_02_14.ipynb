{
  "nbformat": 4,
  "nbformat_minor": 0,
  "metadata": {
    "colab": {
      "provenance": []
    },
    "kernelspec": {
      "name": "python3",
      "display_name": "Python 3"
    },
    "language_info": {
      "name": "python"
    }
  },
  "cells": [
    {
      "cell_type": "markdown",
      "source": [
        "**DAY9 개미 군단**"
      ],
      "metadata": {
        "id": "QD7O9O343J4A"
      }
    },
    {
      "cell_type": "code",
      "source": [
        "def solution(hp):\n",
        "    answer = 0\n",
        "    kingant = 0\n",
        "    soldierant = 0 \n",
        "    workingant = 0\n",
        "    kingant = hp // 5\n",
        "    soldierant = (hp - (kingant * 5)) // 3\n",
        "    workingant = hp - (kingant * 5) - (soldierant * 3)\n",
        "    answer = kingant + soldierant + workingant\n",
        "    return answer"
      ],
      "metadata": {
        "id": "Azcw55-Y9rEP"
      },
      "execution_count": null,
      "outputs": []
    },
    {
      "cell_type": "markdown",
      "source": [
        "**DAY9 모스부호 (1)**"
      ],
      "metadata": {
        "id": "2KrxRJsh3V3s"
      }
    },
    {
      "cell_type": "code",
      "source": [
        "def solution(letter):\n",
        "    answer = ''\n",
        "    morse = { \n",
        "    '.-':'a','-...':'b','-.-.':'c','-..':'d','.':'e','..-.':'f',\n",
        "    '--.':'g','....':'h','..':'i','.---':'j','-.-':'k','.-..':'l',\n",
        "    '--':'m','-.':'n','---':'o','.--.':'p','--.-':'q','.-.':'r',\n",
        "    '...':'s','-':'t','..-':'u','...-':'v','.--':'w','-..-':'x',\n",
        "    '-.--':'y','--..':'z'}\n",
        "    letters = letter.split(' ')\n",
        "    for i in letters:\n",
        "        answer += morse[i]\n",
        "    return answer"
      ],
      "metadata": {
        "id": "fHPaMq779wch"
      },
      "execution_count": null,
      "outputs": []
    },
    {
      "cell_type": "markdown",
      "source": [
        "**DAY9 가위 바위 보**"
      ],
      "metadata": {
        "id": "K-73u6c_3j1H"
      }
    },
    {
      "cell_type": "code",
      "source": [
        "def solution(rsp):\n",
        "    answer = ''\n",
        "    rsp_list = list(rsp)\n",
        "    win = ''\n",
        "    win_list = []\n",
        "    for i in rsp_list:\n",
        "        if i == \"2\":\n",
        "            win = \"0\"\n",
        "        if i == \"0\":\n",
        "            win = \"5\"\n",
        "        if i == \"5\":\n",
        "            win = \"2\"\n",
        "        win_list.append(win)\n",
        "    answer = ''.join(win_list)\n",
        "    return answer"
      ],
      "metadata": {
        "id": "rGB4ZlS09zQx"
      },
      "execution_count": null,
      "outputs": []
    },
    {
      "cell_type": "markdown",
      "source": [
        "**DAY9 구슬을 나누는 경우의 수**"
      ],
      "metadata": {
        "id": "IjxJ4hFs3lkt"
      }
    },
    {
      "cell_type": "code",
      "source": [
        "# import math\n",
        "\n",
        "# def solution(balls, share):\n",
        "#     answer = math.comb(balls, share)\n",
        "#     return answer\n",
        "\n",
        "def solution(balls, share):\n",
        "    answer = factorial(balls) / (factorial(balls - share) * factorial(share))\n",
        "    return answer\n",
        "\n",
        "def factorial(n):\n",
        "    result = 1\n",
        "    for i in range(1, n+1):\n",
        "        result *= i\n",
        "    return result\n"
      ],
      "metadata": {
        "id": "HX_UpNG396AP"
      },
      "execution_count": null,
      "outputs": []
    },
    {
      "cell_type": "markdown",
      "source": [
        "**DAY17 숫자 찾기**"
      ],
      "metadata": {
        "id": "4Ap78_3FRTCB"
      }
    },
    {
      "cell_type": "code",
      "source": [
        "def solution(num, k):\n",
        "    answer = 0\n",
        "    num_list = list(str(num))\n",
        "    \n",
        "    if str(k) in num_list:\n",
        "        answer = num_list.index(str(k)) + 1\n",
        "    else:\n",
        "        answer = -1\n",
        "    return answer"
      ],
      "metadata": {
        "id": "-qBnKIHR-Ztl"
      },
      "execution_count": null,
      "outputs": []
    },
    {
      "cell_type": "markdown",
      "source": [
        "**DAY17 n의 배수 고르기**"
      ],
      "metadata": {
        "id": "R4Na-A52REZD"
      }
    },
    {
      "cell_type": "code",
      "source": [
        "def solution(n, numlist):\n",
        "    answer = []\n",
        "    for i in numlist:\n",
        "        if i % n == 0:\n",
        "            answer.append(i)\n",
        "    return answer"
      ],
      "metadata": {
        "id": "qntgpgBS-V6z"
      },
      "execution_count": null,
      "outputs": []
    },
    {
      "cell_type": "markdown",
      "source": [
        "**DAY17 자릿수 더하기**"
      ],
      "metadata": {
        "id": "1951gll2RYsx"
      }
    },
    {
      "cell_type": "code",
      "source": [
        "def solution(n):\n",
        "    answer = 0\n",
        "    nlist = list(str(n))\n",
        "    for i in nlist:\n",
        "        answer += int(i)\n",
        "    return answer"
      ],
      "metadata": {
        "id": "yzVp1bUF-h8V"
      },
      "execution_count": null,
      "outputs": []
    }
  ]
}