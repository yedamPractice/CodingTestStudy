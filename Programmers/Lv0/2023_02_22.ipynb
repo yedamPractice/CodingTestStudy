{
  "nbformat": 4,
  "nbformat_minor": 0,
  "metadata": {
    "colab": {
      "provenance": []
    },
    "kernelspec": {
      "name": "python3",
      "display_name": "Python 3"
    },
    "language_info": {
      "name": "python"
    }
  },
  "cells": [
    {
      "cell_type": "markdown",
      "source": [
        "**DAY21 삼각형의 완성조건(2)**"
      ],
      "metadata": {
        "id": "4Ap78_3FRTCB"
      }
    },
    {
      "cell_type": "code",
      "source": [
        "def solution(sides):\n",
        "    answer = 0\n",
        "    long = max(sides) # 배열에서 가장 긴 변\n",
        "    small = min(sides)\n",
        "    other = 1\n",
        "    sidessum = sum(sides) # 배열의 합 - other가 가장 긴 변일 때 사용\n",
        "    \n",
        "    # long이 가장 긴 변일 경우\n",
        "    # other <= long < small + other --- long-small < other <= long\n",
        "    # 나머지 한 변이 가장 긴 변일 경우\n",
        "    # long < other < sidessum\n",
        "    \n",
        "    while other <= long:\n",
        "        if long - small < other:\n",
        "            answer += 1\n",
        "        other += 1\n",
        "    while other < sidessum:\n",
        "        if long < other:\n",
        "            answer += 1\n",
        "        other += 1\n",
        "    return answer"
      ],
      "metadata": {
        "id": "rI4qur7wPQTK"
      },
      "execution_count": null,
      "outputs": []
    },
    {
      "cell_type": "markdown",
      "source": [
        "**DAY21 외계어 사전**"
      ],
      "metadata": {
        "id": "R4Na-A52REZD"
      }
    },
    {
      "cell_type": "code",
      "source": [
        "def solution(spell, dic):\n",
        "    answer = 2\n",
        "    for i in dic:\n",
        "        diclist = []        \n",
        "        for j in spell:\n",
        "            if j in i:\n",
        "                diclist.append(j)\n",
        "            else:\n",
        "                break\n",
        "            \n",
        "            if diclist == spell:\n",
        "                answer = 1\n",
        "                break\n",
        "        \n",
        "    return answer"
      ],
      "metadata": {
        "id": "atxkuvANQ_Qa"
      },
      "execution_count": null,
      "outputs": []
    },
    {
      "cell_type": "markdown",
      "source": [
        "**DAY22 저주의 숫자 3**"
      ],
      "metadata": {
        "id": "1951gll2RYsx"
      }
    },
    {
      "cell_type": "code",
      "source": [
        "def solution(n):\n",
        "    numbers = [x for x in range(1, 1000)]\n",
        "    number = []\n",
        "    for i in numbers:\n",
        "        if i % 3 == 0:\n",
        "            continue\n",
        "        elif i % 10 == 3:\n",
        "            continue\n",
        "        elif i // 10 == 3:\n",
        "            continue\n",
        "        elif i % 100 == 3:\n",
        "            continue\n",
        "        elif i // 100 == 3:\n",
        "            continue\n",
        "        elif (i % 100) // 10 == 3:\n",
        "            continue\n",
        "        number.append(i)  \n",
        "    answer = number[n-1]\n",
        "    return answer"
      ],
      "metadata": {
        "id": "jOpENYknYwfF"
      },
      "execution_count": null,
      "outputs": []
    },
    {
      "cell_type": "code",
      "source": [
        "def solution(n):\n",
        "    answer = 0\n",
        "    for _ in range(n):\n",
        "        answer += 1\n",
        "        while answer % 3 == 0 or '3' in str(answer):\n",
        "            answer += 1\n",
        "    return answer"
      ],
      "metadata": {
        "id": "dW5oZo0oY0NH"
      },
      "execution_count": null,
      "outputs": []
    }
  ]
}