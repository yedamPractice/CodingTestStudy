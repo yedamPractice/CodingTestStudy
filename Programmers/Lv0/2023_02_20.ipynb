{
  "nbformat": 4,
  "nbformat_minor": 0,
  "metadata": {
    "colab": {
      "provenance": []
    },
    "kernelspec": {
      "name": "python3",
      "display_name": "Python 3"
    },
    "language_info": {
      "name": "python"
    }
  },
  "cells": [
    {
      "cell_type": "markdown",
      "source": [
        "**DAY20 직사각형 넓이 구하기**"
      ],
      "metadata": {
        "id": "i0CCn94w2rPq"
      }
    },
    {
      "cell_type": "code",
      "source": [
        "def solution(dots):\n",
        "    answer = 0\n",
        "    x_small = dots[0][0]\n",
        "    x_big = dots[0][0]\n",
        "    y_small = dots[0][1]\n",
        "    y_big = dots[0][1]\n",
        "    for x, y in dots:\n",
        "        if x < x_small:\n",
        "            x_small = x\n",
        "        if x > x_big:\n",
        "            x_big = x\n",
        "        if y < y_small:\n",
        "            y_small = y\n",
        "        if y > y_big:\n",
        "            y_big = y\n",
        "    width = x_big - x_small\n",
        "    length = y_big - y_small\n",
        "    answer = width * length\n",
        "    return answer"
      ],
      "metadata": {
        "id": "hZ488UyqB-XO"
      },
      "execution_count": null,
      "outputs": []
    },
    {
      "cell_type": "code",
      "source": [
        "def solution(dots):\n",
        "    answer = (max(dots)[0] - min(dots)[0]) * (max(dots)[1] - min(dots)[1])\n",
        "    return answer"
      ],
      "metadata": {
        "id": "zBn6SIVJCShu"
      },
      "execution_count": null,
      "outputs": []
    },
    {
      "cell_type": "markdown",
      "source": [
        "**DAY20 캐릭터의 좌표**"
      ],
      "metadata": {
        "id": "zjBaMTUD2mv2"
      }
    },
    {
      "cell_type": "code",
      "source": [
        "def solution(keyinput, board):\n",
        "    answer = []\n",
        "    x = 0\n",
        "    y = 0\n",
        "    for i in keyinput:\n",
        "        if i == 'left':\n",
        "            x -= 1\n",
        "        elif i == 'right':\n",
        "            x += 1\n",
        "        elif i == 'up':\n",
        "            y += 1\n",
        "        elif i == 'down':\n",
        "            y -= 1\n",
        "        if x > (board[0]-1)/2:\n",
        "            x = (board[0]-1)/2\n",
        "        elif x < -(board[0]-1)/2:\n",
        "            x = -(board[0]-1)/2\n",
        "        elif y > (board[1]-1)/2:\n",
        "            y = (board[1]-1)/2\n",
        "        elif y < -(board[1]-1)/2:\n",
        "            y = -(board[1]-1)/2\n",
        "    answer.append(int(x))\n",
        "    answer.append(int(y))\n",
        "    return answer"
      ],
      "metadata": {
        "id": "CX-9WXggCeut"
      },
      "execution_count": null,
      "outputs": []
    },
    {
      "cell_type": "markdown",
      "source": [
        "**DAY20 최댓값 만들기(2)**"
      ],
      "metadata": {
        "id": "cm7_IbVj2kAz"
      }
    },
    {
      "cell_type": "code",
      "source": [
        "def solution(numbers):\n",
        "    numbers = sorted(numbers)\n",
        "    plus = numbers[-1] * numbers[-2]\n",
        "    minus = numbers[0] * numbers[1]\n",
        "    if plus > minus:\n",
        "        answer = plus\n",
        "    else:\n",
        "        answer = minus\n",
        "    return answer"
      ],
      "metadata": {
        "id": "R4FgixSECYJv"
      },
      "execution_count": null,
      "outputs": []
    }
  ]
}