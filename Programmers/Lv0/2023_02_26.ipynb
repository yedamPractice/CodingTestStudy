{
  "nbformat": 4,
  "nbformat_minor": 0,
  "metadata": {
    "colab": {
      "provenance": []
    },
    "kernelspec": {
      "name": "python3",
      "display_name": "Python 3"
    },
    "language_info": {
      "name": "python"
    }
  },
  "cells": [
    {
      "cell_type": "markdown",
      "source": [
        "**DAY23 특이한 정렬**"
      ],
      "metadata": {
        "id": "4Ap78_3FRTCB"
      }
    },
    {
      "cell_type": "code",
      "source": [
        "def solution(numlist, n):\n",
        "    answer = []\n",
        "    newlist = []\n",
        "    \n",
        "    numlist = sorted(numlist, reverse=True)\n",
        "    \n",
        "    for i in numlist:\n",
        "        newlist.append(abs(i - n))\n",
        "        \n",
        "    print(\"numlist\", numlist)\n",
        "    print(\"newlist\", newlist)\n",
        "    \n",
        "    for i in range(len(numlist)):\n",
        "        id = newlist.index(min(newlist))\n",
        "        answer.append(numlist[id])\n",
        "        \n",
        "        del newlist[id]\n",
        "        del numlist[id]\n",
        "        \n",
        "    return answer\n"
      ],
      "metadata": {
        "id": "krZOaMX-BGac"
      },
      "execution_count": null,
      "outputs": []
    },
    {
      "cell_type": "code",
      "source": [
        "def solution(numlist, n):\n",
        "    answer = sorted(numlist, key = lambda x : (abs(x-n), n-x))\n",
        "    return answer"
      ],
      "metadata": {
        "id": "lI7uPkBOF823"
      },
      "execution_count": null,
      "outputs": []
    },
    {
      "cell_type": "markdown",
      "source": [
        "**DAY23 등수 매기기**"
      ],
      "metadata": {
        "id": "R4Na-A52REZD"
      }
    },
    {
      "cell_type": "code",
      "source": [
        "def solution(score):\n",
        "    avg = []\n",
        "    answer = []\n",
        "    for i in score:\n",
        "        avg.append((i[0] + i[1])/2)\n",
        "        \n",
        "    avg_sort = sorted(avg, reverse = True)\n",
        "    \n",
        "    for i in avg:\n",
        "        answer.append(avg_sort.index(i) + 1)\n",
        "    return answer"
      ],
      "metadata": {
        "id": "evYl9E2jwdho"
      },
      "execution_count": null,
      "outputs": []
    },
    {
      "cell_type": "markdown",
      "source": [
        "**DAY23 옹알이(1)**"
      ],
      "metadata": {
        "id": "1951gll2RYsx"
      }
    },
    {
      "cell_type": "code",
      "source": [
        "import re\n",
        "\n",
        "def solution(babbling):\n",
        "    answer = 0\n",
        "    cansay = [\"aya\", \"ye\", \"woo\", \"ma\"]\n",
        "    \n",
        "    for i in babbling:\n",
        "        while len(i) != 0:\n",
        "            if i[0:3]=='aya' or i[0:3]=='woo':\n",
        "                if len(i) == 3:\n",
        "                    answer += 1\n",
        "                    break\n",
        "                else:\n",
        "                    i = i[3:]\n",
        "                    \n",
        "            elif i[0:2]=='ye' or i[0:2]=='ma':\n",
        "                if len(i) == 2:\n",
        "                    answer += 1\n",
        "                    break\n",
        "                else:\n",
        "                    i = i[2:]\n",
        "            else:\n",
        "                break\n",
        "    return answer"
      ],
      "metadata": {
        "id": "Xyt_GoKSSJPU"
      },
      "execution_count": null,
      "outputs": []
    }
  ]
}