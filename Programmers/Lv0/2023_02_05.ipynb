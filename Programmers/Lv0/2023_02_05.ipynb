{
  "nbformat": 4,
  "nbformat_minor": 0,
  "metadata": {
    "colab": {
      "provenance": []
    },
    "kernelspec": {
      "name": "python3",
      "display_name": "Python 3"
    },
    "language_info": {
      "name": "python"
    }
  },
  "cells": [
    {
      "cell_type": "markdown",
      "source": [
        "**DAY2 두 수의 나눗셈**"
      ],
      "metadata": {
        "id": "2KrxRJsh3V3s"
      }
    },
    {
      "cell_type": "code",
      "source": [
        "def solution(num1, num2):\n",
        "    answer = int(num1 / num2 * 1000)\n",
        "    return answer"
      ],
      "metadata": {
        "id": "ezCnrB373pqn"
      },
      "execution_count": null,
      "outputs": []
    },
    {
      "cell_type": "markdown",
      "source": [
        "**DAY2 숫자 비교하기**"
      ],
      "metadata": {
        "id": "K-73u6c_3j1H"
      }
    },
    {
      "cell_type": "code",
      "source": [
        "def solution(num1, num2):\n",
        "    if num1 == num2:\n",
        "        answer = 1\n",
        "    else:\n",
        "        answer = -1\n",
        "    return answer"
      ],
      "metadata": {
        "id": "169IvrNf3qfN"
      },
      "execution_count": null,
      "outputs": []
    },
    {
      "cell_type": "markdown",
      "source": [
        "**DAY2 분수의 덧셈**"
      ],
      "metadata": {
        "id": "QD7O9O343J4A"
      }
    },
    {
      "cell_type": "code",
      "source": [
        "def solution(numer1, denom1, numer2, denom2):\n",
        "    # 분자, 분모를 곱해서 일한 대분수 형태로 만들기\n",
        "    mom = (numer1 * denom2) + (numer2 * denom1)\n",
        "    son = denom1 * denom2\n",
        "    \n",
        "    div = 0\n",
        "    \n",
        "    for i in range(1, mom+1): # range(1, son+1)\n",
        "        if (mom % i == 0) and (son % i == 0):\n",
        "            div = i\n",
        "    answer = [mom/div, son/div]\n",
        "    return answer"
      ],
      "metadata": {
        "id": "lZ3eZyCX3PT7"
      },
      "execution_count": null,
      "outputs": []
    },
    {
      "cell_type": "markdown",
      "source": [
        "**DAY2 배열 두 배 만들기**"
      ],
      "metadata": {
        "id": "IjxJ4hFs3lkt"
      }
    },
    {
      "cell_type": "code",
      "source": [
        "def solution(numbers):\n",
        "    answer = [i * 2 for i in numbers]\n",
        "    return answer"
      ],
      "metadata": {
        "id": "FKmt9vCQ3s_x"
      },
      "execution_count": null,
      "outputs": []
    },
    {
      "cell_type": "markdown",
      "source": [
        "**DAY11 팩토리얼**"
      ],
      "metadata": {
        "id": "R4Na-A52REZD"
      }
    },
    {
      "cell_type": "code",
      "source": [
        "def solution(n):\n",
        "    factor = 1\n",
        "    count = 0\n",
        "    while factor <= n:\n",
        "        count += 1\n",
        "        factor *= (count+1)\n",
        "    answer = count\n",
        "    return answer"
      ],
      "metadata": {
        "id": "xu2UOGnhRON1"
      },
      "execution_count": null,
      "outputs": []
    },
    {
      "cell_type": "markdown",
      "source": [
        "**DAY12 모음 제거**"
      ],
      "metadata": {
        "id": "4Ap78_3FRTCB"
      }
    },
    {
      "cell_type": "code",
      "source": [
        "# def solution(my_string):\n",
        "#     new_my_string = my_string.replace('a', '')\n",
        "#     new_my_string = new_my_string.replace('e', '')\n",
        "#     new_my_string = new_my_string.replace('i', '')\n",
        "#     new_my_string = new_my_string.replace('o', '')\n",
        "#     new_my_string = new_my_string.replace('u', '')\n",
        "#     return new_my_string\n",
        "\n",
        "def solution(my_string):\n",
        "    new_my_string = ''\n",
        "    list = ['a', 'e', 'i', 'o', 'u']\n",
        "    for i in my_string:\n",
        "        if i not in list:\n",
        "            new_my_string += i\n",
        "    answer = new_my_string\n",
        "    return new_my_string"
      ],
      "metadata": {
        "id": "wS4ELUpIRcfm"
      },
      "execution_count": null,
      "outputs": []
    },
    {
      "cell_type": "markdown",
      "source": [
        "**DAY12 문자열 정렬하기(1)**"
      ],
      "metadata": {
        "id": "1951gll2RYsx"
      }
    },
    {
      "cell_type": "code",
      "source": [
        "def solution(my_string):\n",
        "    answer = []\n",
        "    numbers = ['0', '1', '2', '3', '4', '5', '6', '7', '8', '9']\n",
        "    for i in my_string:\n",
        "        if i in numbers:\n",
        "            answer.append(int(i))\n",
        "            answer = sorted(answer)\n",
        "    return answer"
      ],
      "metadata": {
        "id": "nOtS9S0KR0xZ"
      },
      "execution_count": null,
      "outputs": []
    }
  ]
}