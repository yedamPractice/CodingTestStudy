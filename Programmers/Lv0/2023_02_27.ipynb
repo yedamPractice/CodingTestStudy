{
  "nbformat": 4,
  "nbformat_minor": 0,
  "metadata": {
    "colab": {
      "provenance": []
    },
    "kernelspec": {
      "name": "python3",
      "display_name": "Python 3"
    },
    "language_info": {
      "name": "python"
    }
  },
  "cells": [
    {
      "cell_type": "markdown",
      "source": [
        "**DAY23 로그인 성공?**"
      ],
      "metadata": {
        "id": "i0CCn94w2rPq"
      }
    },
    {
      "cell_type": "code",
      "source": [
        "def solution(id_pw, db):\n",
        "    answer = 'fail'\n",
        "    for i in range(len(db)):\n",
        "        if id_pw[0] == db[i][0]:\n",
        "            if id_pw[1] == db[i][1]:\n",
        "                answer = 'login'\n",
        "                break\n",
        "            else:\n",
        "                answer ='wrong pw'\n",
        "                break\n",
        "    return answer"
      ],
      "metadata": {
        "id": "zI725QO6S8Ak"
      },
      "execution_count": null,
      "outputs": []
    },
    {
      "cell_type": "markdown",
      "source": [
        "**DAY24 치킨 쿠폰**"
      ],
      "metadata": {
        "id": "zjBaMTUD2mv2"
      }
    },
    {
      "cell_type": "code",
      "source": [
        "def solution(chicken):\n",
        "    answer = 0\n",
        "    cupon = chicken\n",
        "    service = 0\n",
        "    while cupon >= 10: \n",
        "        service = cupon // 10\n",
        "        answer += service\n",
        "        cupon -= service * 10\n",
        "        cupon += service\n",
        "    return answer"
      ],
      "metadata": {
        "id": "Y1HdcCtLbtGJ"
      },
      "execution_count": null,
      "outputs": []
    },
    {
      "cell_type": "markdown",
      "source": [
        "**DAY24 이진수 더하기**"
      ],
      "metadata": {
        "id": "cm7_IbVj2kAz"
      }
    },
    {
      "cell_type": "code",
      "source": [
        "def solution(bin1, bin2):\n",
        "    answer = ''\n",
        "    bin1_10 = int(bin1, 2)\n",
        "    bin2_10 = int(bin2, 2)\n",
        "    \n",
        "    sum_10 = bin1_10 + bin2_10\n",
        "    # answer = format(sum_10, 'b')\n",
        "    answer = bin(sum_10)[2:]\n",
        "    return answer"
      ],
      "metadata": {
        "id": "mQmdvDR0TFbD"
      },
      "execution_count": null,
      "outputs": []
    }
  ]
}