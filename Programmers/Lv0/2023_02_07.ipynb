{
  "nbformat": 4,
  "nbformat_minor": 0,
  "metadata": {
    "colab": {
      "provenance": []
    },
    "kernelspec": {
      "name": "python3",
      "display_name": "Python 3"
    },
    "language_info": {
      "name": "python"
    }
  },
  "cells": [
    {
      "cell_type": "markdown",
      "source": [
        "**DAY4 피자 나눠먹기(1)**"
      ],
      "metadata": {
        "id": "2KrxRJsh3V3s"
      }
    },
    {
      "cell_type": "code",
      "source": [
        "def solution(n):\n",
        "    if n % 7 == 0:\n",
        "        answer = n // 7\n",
        "    else:\n",
        "        answer = (n // 7) + 1\n",
        "    return answer"
      ],
      "metadata": {
        "id": "Iy1VxuwsBLRN"
      },
      "execution_count": null,
      "outputs": []
    },
    {
      "cell_type": "markdown",
      "source": [
        "**DAY4 피자 나눠먹기(2)**"
      ],
      "metadata": {
        "id": "K-73u6c_3j1H"
      }
    },
    {
      "cell_type": "code",
      "source": [
        "def gcd(a, b):  # 최대공약수\n",
        "    while b > 0:\n",
        "        a, b = b, a % b\n",
        "    return a\n",
        "\n",
        "# 최소공배수 구하는 문제\n",
        "def solution(n):\n",
        "    lcm = n * 6 / gcd(n, 6) # 최대공약수로 나눠주기\n",
        "    answer = lcm / 6\n",
        "    return answer"
      ],
      "metadata": {
        "id": "KH3C4aJ9HCoP"
      },
      "execution_count": null,
      "outputs": []
    },
    {
      "cell_type": "markdown",
      "source": [
        "**DAY4 피자 나눠먹기(3)**"
      ],
      "metadata": {
        "id": "IjxJ4hFs3lkt"
      }
    },
    {
      "cell_type": "code",
      "source": [
        "def solution(slice, n):\n",
        "    if n <= slice:\n",
        "        answer = 1\n",
        "    else:\n",
        "        if n % slice == 0:\n",
        "            answer = n // slice\n",
        "        else:\n",
        "            answer = n // slice + 1\n",
        "    return answer"
      ],
      "metadata": {
        "id": "mKZgxAiAH20t"
      },
      "execution_count": null,
      "outputs": []
    },
    {
      "cell_type": "markdown",
      "source": [
        "**DAY4 배열의 평균값**"
      ],
      "metadata": {
        "id": "QD7O9O343J4A"
      }
    },
    {
      "cell_type": "code",
      "source": [
        "def solution(numbers):\n",
        "    sum = 0\n",
        "    for i in numbers:\n",
        "        sum += i\n",
        "    answer = sum / len(numbers)\n",
        "    return answer"
      ],
      "metadata": {
        "id": "P5U9uES7BOhT"
      },
      "execution_count": null,
      "outputs": []
    },
    {
      "cell_type": "markdown",
      "source": [
        "**DAY13 배열 원소의 길이**"
      ],
      "metadata": {
        "id": "R4Na-A52REZD"
      }
    },
    {
      "cell_type": "code",
      "source": [
        "def solution(strlist):\n",
        "    answer = []\n",
        "    for i in strlist:\n",
        "        lenght = len(i)\n",
        "        answer.append(lenght)    \n",
        "    return answer"
      ],
      "metadata": {
        "id": "BYN-IivWIYQN"
      },
      "execution_count": null,
      "outputs": []
    },
    {
      "cell_type": "markdown",
      "source": [
        "**DAY13 중복된 문자 제거**"
      ],
      "metadata": {
        "id": "4Ap78_3FRTCB"
      }
    },
    {
      "cell_type": "code",
      "source": [
        "# from collections import OrderedDict\n",
        "\n",
        "# def solution(my_string):\n",
        "#     answer = ''.join(OrderedDict.fromkeys(my_string))\n",
        "#     return answer\n",
        "\n",
        "def solution(my_string):\n",
        "    answer = ''\n",
        "    for i in my_string:\n",
        "        if i in answer:\n",
        "            continue\n",
        "        else:\n",
        "            answer += i\n",
        "    return answer"
      ],
      "metadata": {
        "id": "0fJlcngxKWWw"
      },
      "execution_count": null,
      "outputs": []
    },
    {
      "cell_type": "markdown",
      "source": [
        "**DAY13 삼각형의 완성 조건(1)**"
      ],
      "metadata": {
        "id": "1951gll2RYsx"
      }
    },
    {
      "cell_type": "code",
      "source": [
        "def solution(sides):\n",
        "    sides = sorted(sides)\n",
        "    sum = sides[0] + sides[1]\n",
        "    \n",
        "    if sides[2] < sum:\n",
        "        answer = 1\n",
        "    else:\n",
        "        answer = 2\n",
        "    return answer"
      ],
      "metadata": {
        "id": "6YVrxRTmAa_v"
      },
      "execution_count": null,
      "outputs": []
    }
  ]
}