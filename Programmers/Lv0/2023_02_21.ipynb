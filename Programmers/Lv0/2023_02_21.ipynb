{
  "nbformat": 4,
  "nbformat_minor": 0,
  "metadata": {
    "colab": {
      "provenance": []
    },
    "kernelspec": {
      "name": "python3",
      "display_name": "Python 3"
    },
    "language_info": {
      "name": "python"
    }
  },
  "cells": [
    {
      "cell_type": "markdown",
      "source": [
        "**DAY20 다항식 더하기**"
      ],
      "metadata": {
        "id": "4Ap78_3FRTCB"
      }
    },
    {
      "cell_type": "code",
      "source": [
        "def solution(polynomial):\n",
        "    answer = ''\n",
        "    sum1 = 0\n",
        "    sum2 = 0\n",
        "    polynomial = polynomial.split(' + ')\n",
        "    for i in polynomial:\n",
        "        if i.find('x') == -1:\n",
        "            sum2 += int(i)\n",
        "        else:\n",
        "            if i == 'x':\n",
        "                i = '1x'\n",
        "            sum1 += int(i[:-1])\n",
        "    answer = f'{sum1}x + {sum2}'\n",
        "    if answer[-1] == '0':\n",
        "        answer = answer[:-4]\n",
        "    if answer[0:answer.find('x')] == '1':\n",
        "        answer = answer[1:]\n",
        "    if answer[0:answer.find('x')] == '0':\n",
        "        answer = str(sum2)\n",
        "    \n",
        "    return answer"
      ],
      "metadata": {
        "id": "v3sAWft0hMuY"
      },
      "execution_count": null,
      "outputs": []
    },
    {
      "cell_type": "markdown",
      "source": [
        "**DAY21 숨어있는 숫자의 덧셈(2)**"
      ],
      "metadata": {
        "id": "R4Na-A52REZD"
      }
    },
    {
      "cell_type": "code",
      "source": [
        "def solution(my_string):\n",
        "    answer = 0\n",
        "    for i in my_string:\n",
        "        if i.isdecimal() == False:\n",
        "            my_string = my_string.replace(i, ' ')\n",
        "    my_string = my_string.split()\n",
        "    for j in my_string:\n",
        "        answer += int(j)\n",
        "    return answer"
      ],
      "metadata": {
        "id": "fQ7MUXH2ZMOw"
      },
      "execution_count": null,
      "outputs": []
    },
    {
      "cell_type": "markdown",
      "source": [
        "**DAY21 안전지대**"
      ],
      "metadata": {
        "id": "1951gll2RYsx"
      }
    },
    {
      "cell_type": "code",
      "source": [
        "def solution(board):\n",
        "    answer = 0\n",
        "    newlist = [] # 지뢰가 설치된 곳\n",
        "    n = len(board)\n",
        "    for x in range(n):\n",
        "        for y in range(n):\n",
        "            if board[x][y] == 1:\n",
        "                newlist.append([x, y])\n",
        "                \n",
        "    dx = [0, 0, 1, -1, 1, 1, -1, -1] #['위','아','오','왼','오위','오아','왼위','왼아']\n",
        "    dy = [1, -1, 0, 0, 1, -1, 1, -1]\n",
        "    \n",
        "    for x, y in newlist:\n",
        "        for i in range(8):\n",
        "            nx = x + dx[i]\n",
        "            ny = y + dy[i]\n",
        "            if 0 <= nx < n and 0 <= ny < n:\n",
        "                board[nx][ny] = 1\n",
        "    \n",
        "    for x in range(n):\n",
        "        for y in range(n):\n",
        "            if board[x][y] == 0:\n",
        "                answer += 1\n",
        "    \n",
        "    return answer"
      ],
      "metadata": {
        "id": "j8MzHc7ltIWH"
      },
      "execution_count": null,
      "outputs": []
    }
  ]
}