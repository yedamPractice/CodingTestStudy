{
  "nbformat": 4,
  "nbformat_minor": 0,
  "metadata": {
    "colab": {
      "provenance": []
    },
    "kernelspec": {
      "name": "python3",
      "display_name": "Python 3"
    },
    "language_info": {
      "name": "python"
    }
  },
  "cells": [
    {
      "cell_type": "markdown",
      "source": [
        "**DAY8 배열 자르기**"
      ],
      "metadata": {
        "id": "QD7O9O343J4A"
      }
    },
    {
      "cell_type": "code",
      "source": [
        "def solution(numbers, num1, num2):\n",
        "    answer = numbers[num1:num2+1]\n",
        "    return answer"
      ],
      "metadata": {
        "id": "XQBgJnHIVsnb"
      },
      "execution_count": null,
      "outputs": []
    },
    {
      "cell_type": "markdown",
      "source": [
        "**DAY8 외계행성의 나이**"
      ],
      "metadata": {
        "id": "2KrxRJsh3V3s"
      }
    },
    {
      "cell_type": "code",
      "source": [
        "def solution(age):\n",
        "    answer = ''\n",
        "    alpha = 'abcdefghij'\n",
        "    for i in str(age):\n",
        "        answer += alpha[int(i)]\n",
        "    return answer"
      ],
      "metadata": {
        "id": "dX5_Dk2ZVzls"
      },
      "execution_count": null,
      "outputs": []
    },
    {
      "cell_type": "markdown",
      "source": [
        "**DAY8 진료순서 정하기**"
      ],
      "metadata": {
        "id": "K-73u6c_3j1H"
      }
    },
    {
      "cell_type": "code",
      "source": [
        "# def solution(emergency):\n",
        "#     answer = []\n",
        "#     change = sorted(emergency)\n",
        "#     for i in change:\n",
        "#         answer.append(len(emergency) - emergency.index(i))\n",
        "#     return answer\n",
        "\n",
        "def solution(emergency):\n",
        "    answer = []\n",
        "    change = sorted(emergency, reverse = True)\n",
        "    for i in emergency:\n",
        "        answer.append(change.index(i) + 1)\n",
        "    return answer"
      ],
      "metadata": {
        "id": "Cj3QYkmAVk4M"
      },
      "execution_count": null,
      "outputs": []
    },
    {
      "cell_type": "markdown",
      "source": [
        "**DAY8 순서쌍의 개수**"
      ],
      "metadata": {
        "id": "IjxJ4hFs3lkt"
      }
    },
    {
      "cell_type": "code",
      "source": [
        "# 약수 개수 구하기\n",
        "def solution(n):\n",
        "    answer = 0\n",
        "    for i in range(1, n+1):\n",
        "        if n % i == 0:\n",
        "            answer += 1\n",
        "    return answer"
      ],
      "metadata": {
        "id": "6qGmEYXLV2WK"
      },
      "execution_count": null,
      "outputs": []
    },
    {
      "cell_type": "markdown",
      "source": [
        "**DAY16 가장 큰 수 찾기**"
      ],
      "metadata": {
        "id": "4Ap78_3FRTCB"
      }
    },
    {
      "cell_type": "code",
      "source": [
        "def solution(array):\n",
        "    answer = []\n",
        "    max = array[0]\n",
        "    max_index = 0\n",
        "    for i in range(len(array)):\n",
        "        if array[i] > max:\n",
        "            max = array[i]\n",
        "            max_index = i\n",
        "    answer.append(max)\n",
        "    answer.append(max_index)\n",
        "    return answer"
      ],
      "metadata": {
        "id": "xNhT0gvkWCXC"
      },
      "execution_count": null,
      "outputs": []
    },
    {
      "cell_type": "markdown",
      "source": [
        "**DAY16 문자열 계산하기**"
      ],
      "metadata": {
        "id": "R4Na-A52REZD"
      }
    },
    {
      "cell_type": "code",
      "source": [
        "def solution(my_string):\n",
        "    my_string_list = my_string.split()\n",
        "    answer = int(my_string_list[0])\n",
        "    \n",
        "    for i in range(len(my_string_list)):\n",
        "        if my_string_list[i] ==  '+':\n",
        "            answer += int(my_string_list[i+1])\n",
        "        if my_string_list[i] == '-':\n",
        "            answer -= int(my_string_list[i+1])\n",
        "    return answer"
      ],
      "metadata": {
        "id": "O6LhUaNhWEjM"
      },
      "execution_count": null,
      "outputs": []
    },
    {
      "cell_type": "markdown",
      "source": [
        "**DAY16 배열의 유사도**"
      ],
      "metadata": {
        "id": "1951gll2RYsx"
      }
    },
    {
      "cell_type": "code",
      "source": [
        "def solution(s1, s2):\n",
        "    answer = 0\n",
        "    for i in s1:\n",
        "        if i in s2:\n",
        "            answer += 1\n",
        "    return answer"
      ],
      "metadata": {
        "id": "-Gt020tEV-l3"
      },
      "execution_count": null,
      "outputs": []
    }
  ]
}